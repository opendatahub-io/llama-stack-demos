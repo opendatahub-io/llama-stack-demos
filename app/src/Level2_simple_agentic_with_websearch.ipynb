{
 "cells": [
  {
   "cell_type": "markdown",
   "metadata": {},
   "source": [
    "# Simple Agentic Tutorial with Single Tool Use\n",
    "\n",
    "This tutorial is designed to give new users an overview of how to use **Simple Agentic** effectively. It demonstrates basic single-tool usage and provides guidance on switching between a remote cluster and a local Podman setup.\n",
    "\n",
    "## Overview\n",
    "\n",
    "Agentic is a framework that allows users to interact with AI agents in a structured and efficient manner. This tutorial walks you through the following steps:\n",
    "1. Setting up the environment.\n",
    "2. Configuring the agent with a single tool.\n",
    "3. Running queries and interpreting responses.\n",
    "4. Switching between a remote cluster and a local Podman setup.\n",
    "\n",
    "## Prerequisites\n",
    "\n",
    "Before starting, ensure you have the following:\n",
    "- Python.\n",
    "- Access to a remote cluster or a local Podman setup.\n",
    "- API keys and environment variables configured (e.g., `INFERENCE_MODEL`, `TAVILY_SEARCH_API_KEY`, `LLAMA_STACK_ENDPOINT`, `LLAMA_STACK_PORT`).\n"
   ]
  },
  {
   "cell_type": "markdown",
   "metadata": {},
   "source": [
    "### 1. Setting Up the Environment\n",
    "- Import the necessary libraries.\n",
    "- Load environment variables."
   ]
  },
  {
   "cell_type": "code",
   "execution_count": null,
   "metadata": {},
   "outputs": [
    {
     "name": "stdout",
     "output_type": "stream",
     "text": [
      "Model: ibm-granite/granite-3.2-8b-instruct\n"
     ]
    }
   ],
   "source": [
    "from llama_stack_client.lib.agents.agent import Agent\n",
    "from llama_stack_client.lib.agents.event_logger import EventLogger\n",
    "from llama_stack_client import LlamaStackClient\n",
    "from termcolor import cprint\n",
    "\n",
    "inference_model = \"ibm-granite/granite-3.2-8b-instruct\"\n",
    "tavily_search_api_key = \"YOUR_TAVILY_API_KEY\"\n",
    "endpoint = \"your-llama-stack-endpoint\" # Replace with your Llama Stack endpoint\n",
    "port = 8321\n",
    "environment = \"nerc\" # Use the `environment` variable to toggle between a remote cluster (`nerc`) and a local Podman setup (`local`).\n",
    "print(f\"Model: {inference_model}\")"
   ]
  },
  {
   "cell_type": "markdown",
   "metadata": {},
   "source": [
    "### Client Initialization\n",
    "- Initialize the `LlamaStackClient` with the appropriate base URL and provider data."
   ]
  },
  {
   "cell_type": "code",
   "execution_count": 2,
   "metadata": {},
   "outputs": [],
   "source": [
    "client =  LlamaStackClient(\n",
    "        base_url=f\"http://localhost:{port}\" if environment==\"local\" else endpoint,\n",
    "        provider_data = {\"tavily_search_api_key\": tavily_search_api_key}\n",
    ")"
   ]
  },
  {
   "cell_type": "markdown",
   "metadata": {},
   "source": [
    "### Configuring the Agent\n",
    "- Create an `Agent` instance with the desired model, instructions, tools."
   ]
  },
  {
   "cell_type": "code",
   "execution_count": 3,
   "metadata": {},
   "outputs": [],
   "source": [
    "agent = Agent(\n",
    "    client, \n",
    "    model=inference_model,\n",
    "    instructions=\"\"\"You are a helpful websearch assistant. When you are asked to search the web you must use a tool. \n",
    "            Whenever a tool is called, be sure return the response in a friendly and helpful tone.\n",
    "            \"\"\" ,\n",
    "    tools=[\"builtin::websearch\"],\n",
    "    tool_config={\"tool_choice\":\"required\"},\n",
    "    sampling_params={\"max_tokens\":4096}\n",
    ")"
   ]
  },
  {
   "cell_type": "markdown",
   "metadata": {},
   "source": [
    "### Set User Queries\n",
    "- Define user prompts to interact with the agent."
   ]
  },
  {
   "cell_type": "code",
   "execution_count": 4,
   "metadata": {},
   "outputs": [],
   "source": [
    "user_prompts = [\n",
    "    \"What’s latest in OpenShift?\",\n",
    "]"
   ]
  },
  {
   "cell_type": "markdown",
   "metadata": {},
   "source": [
    "### Query execution\n",
    "- Use the agent to create a session and process user queries.\n",
    "- Log and display the agent's responses for each query."
   ]
  },
  {
   "cell_type": "code",
   "execution_count": 5,
   "metadata": {},
   "outputs": [
    {
     "name": "stdout",
     "output_type": "stream",
     "text": [
      "\u001b[32mUser> What’s latest in OpenShift?\u001b[0m\n",
      "\u001b[33minference> \u001b[0m\u001b[33m<\u001b[0m\u001b[33mtool\u001b[0m\u001b[33m_\u001b[0m\u001b[33mcall\u001b[0m\u001b[33m>\u001b[0m\u001b[97m\u001b[0m\n",
      "\u001b[32mtool_execution> Tool:brave_search Args:{'query': 'latest updates on OpenShift'}\u001b[0m\n",
      "\u001b[32mtool_execution> Tool:brave_search Response:{\"query\": \"latest updates on OpenShift\", \"top_k\": [{\"title\": \"What's new in OpenShift? - Red Hat Developer\", \"url\": \"https://developers.redhat.com/products/openshift/whats-new-red-hat-openshift\", \"content\": \"Please see the release notes to discover all of the updates. Get started with Red Hat OpenShift 4.18. To get started with Red Hat OpenShift 4.18, try the Developer Sandbox. It provides free access to a shared OpenShift cluster for your development needs without requiring you to set up and configure an OpenShift cluster.\", \"score\": 0.756376, \"raw_content\": null}, {\"title\": \"Red Hat Blends Innovation with Stability in Latest Release of Red Hat ...\", \"url\": \"https://www.redhat.com/en/about/press-releases/red-hat-blends-innovation-stability-latest-release-red-hat-openshift\", \"content\": \"Red Hat, Inc., the world's leading provider of open source solutions, today introduces new capabilities and enhancements for Red Hat OpenShift, the industry\\u2019s leading hybrid cloud application platform powered by Kubernetes, as well as the technology preview of Red Hat OpenShift Lightspeed. The technology preview release of OpenShift Lightspeed now adds support for\\u00a0Red Hat OpenShift AI and\\u00a0Red Hat Enterprise Linux AI as model providers, enabling organizations to use Red Hat as the source of the underlying LLM. Red Hat helps customers integrate new and existing IT applications, develop cloud-native applications, standardize on our industry-leading operating system, and automate, secure, and manage complex environments.\", \"score\": 0.69697046, \"raw_content\": null}, {\"title\": \"Red Hat OpenShift 4.17: What you need to know\", \"url\": \"https://www.redhat.com/en/blog/what-you-need-to-know-red-hat-openshift-417\", \"content\": \"Based on\\u00a0Kubernetes 1.30 and\\u00a0CRI-O 1.30,\\u00a0 OpenShift 4.17 features expanded control plane options, increased flexibility for virtualization and networking, new capabilities to leverage generative AI, and continued investment in\\u00a0Red Hat OpenShift Platform Plus. Red Hat OpenShift Platform Plus (OPP) is an expanded version of Red Hat OpenShift that provides a comprehensive hybrid cloud platform with built-in security features for enterprises to build, deploy, run, manage, and automate applications at scale. For\\u00a0Red Hat OpenShift Data Foundation (ODF), we\\u2019re promoting to general availability the use of customer-managed ODF with\\u00a0Red Hat OpenShift Service on AWS with hosted control planes clusters in ODF 4.17.z. Ju Lim works on the core Red Hat OpenShift Container Platform for hybrid and multi-cloud environments to enable customers to run Red Hat OpenShift anywhere.\", \"score\": 0.6633424, \"raw_content\": null}, {\"title\": \"Red Hat OpenShift Container Platform Life Cycle Policy\", \"url\": \"https://access.redhat.com/support/policy/updates/openshift/\", \"content\": \"Extended Update Support - Long Life Add-on - Additional Term 1 enables customers to remain with the same minor release of Red Hat OpenShift for a total 24 months, allowing for stable production environments for mission-critical applications. Extended Update Support - Long Life Add-on - Additional Term 1 is provided with all Premium subscriptions for x86-64 versions of Red Hat OpenShift Kubernetes Engine, Red Hat OpenShift Container Platform, and Red Hat OpenShift Platform Plus. The combination of Extended Update Support - Long Life Add-On - Additional Term 1 and Extended Update Support Long Life Add-on - Additional Term 2 (footnote [13]) enables customers to remain with the same minor release of Red Hat OpenShift for a total of 36 months, allowing for stable production environments for mission-critical applications.\", \"score\": 0.47504577, \"raw_content\": null}, {\"title\": \"What's new in Red Hat OpenShift\", \"url\": \"https://www.redhat.com/en/whats-new-red-hat-openshift\", \"content\": \"What's new in Red Hat OpenShift All Red Hat Red Hat AI portfolioTune small language models and develop and deploy solutions across the hybrid cloud with our line of AI products and services. Red Hat OpenShift AI Artificial intelligenceBuild, deploy, and monitor AI models and apps with Red Hat's open source platforms. Red Hat OpenShift Service on AWS Buy onlineBuy select products and services in the Red Hat Store. Containers, Kubernetes and Red Hat OpenShift Technical Overview (No cost) Why build a Red Hat cloud? Explore Red Hat All Red Hat products Red Hat resources What's new in Red Hat OpenShift Red Hat OpenShift Red Hat Ansible Automation Platform About Red Hat About Red Hat Contact Red Hat\", \"score\": 0.36602354, \"raw_content\": null}]}\u001b[0m\n",
      "\u001b[33minference> \u001b[0m\u001b[33mHere\u001b[0m\u001b[33m are\u001b[0m\u001b[33m the\u001b[0m\u001b[33m latest\u001b[0m\u001b[33m updates\u001b[0m\u001b[33m on\u001b[0m\u001b[33m Open\u001b[0m\u001b[33mShift\u001b[0m\u001b[33m:\u001b[0m\u001b[33m\n",
      "\u001b[0m\u001b[33m\n",
      "\u001b[0m\u001b[33m1\u001b[0m\u001b[33m.\u001b[0m\u001b[33m **\u001b[0m\u001b[33mRed\u001b[0m\u001b[33m Hat\u001b[0m\u001b[33m Open\u001b[0m\u001b[33mShift\u001b[0m\u001b[33m \u001b[0m\u001b[33m4\u001b[0m\u001b[33m.\u001b[0m\u001b[33m1\u001b[0m\u001b[33m8\u001b[0m\u001b[33m**:\u001b[0m\u001b[33m You\u001b[0m\u001b[33m can\u001b[0m\u001b[33m get\u001b[0m\u001b[33m started\u001b[0m\u001b[33m with\u001b[0m\u001b[33m this\u001b[0m\u001b[33m version\u001b[0m\u001b[33m using\u001b[0m\u001b[33m the\u001b[0m\u001b[33m Developer\u001b[0m\u001b[33m Sandbox\u001b[0m\u001b[33m,\u001b[0m\u001b[33m which\u001b[0m\u001b[33m provides\u001b[0m\u001b[33m free\u001b[0m\u001b[33m access\u001b[0m\u001b[33m to\u001b[0m\u001b[33m a\u001b[0m\u001b[33m shared\u001b[0m\u001b[33m Open\u001b[0m\u001b[33mShift\u001b[0m\u001b[33m cluster\u001b[0m\u001b[33m for\u001b[0m\u001b[33m your\u001b[0m\u001b[33m development\u001b[0m\u001b[33m needs\u001b[0m\u001b[33m.\u001b[0m\u001b[33m \n",
      "\u001b[0m\u001b[33m\n",
      "\u001b[0m\u001b[33m2\u001b[0m\u001b[33m.\u001b[0m\u001b[33m **\u001b[0m\u001b[33mRed\u001b[0m\u001b[33m Hat\u001b[0m\u001b[33m Open\u001b[0m\u001b[33mShift\u001b[0m\u001b[33m \u001b[0m\u001b[33m4\u001b[0m\u001b[33m.\u001b[0m\u001b[33m1\u001b[0m\u001b[33m7\u001b[0m\u001b[33m**:\u001b[0m\u001b[33m This\u001b[0m\u001b[33m version\u001b[0m\u001b[33m is\u001b[0m\u001b[33m based\u001b[0m\u001b[33m on\u001b[0m\u001b[33m Kubernetes\u001b[0m\u001b[33m \u001b[0m\u001b[33m1\u001b[0m\u001b[33m.\u001b[0m\u001b[33m3\u001b[0m\u001b[33m0\u001b[0m\u001b[33m and\u001b[0m\u001b[33m C\u001b[0m\u001b[33mRI\u001b[0m\u001b[33m-\u001b[0m\u001b[33mO\u001b[0m\u001b[33m \u001b[0m\u001b[33m1\u001b[0m\u001b[33m.\u001b[0m\u001b[33m3\u001b[0m\u001b[33m0\u001b[0m\u001b[33m.\u001b[0m\u001b[33m It\u001b[0m\u001b[33m features\u001b[0m\u001b[33m expanded\u001b[0m\u001b[33m control\u001b[0m\u001b[33m plane\u001b[0m\u001b[33m options\u001b[0m\u001b[33m,\u001b[0m\u001b[33m increased\u001b[0m\u001b[33m flexibility\u001b[0m\u001b[33m for\u001b[0m\u001b[33m virtual\u001b[0m\u001b[33mization\u001b[0m\u001b[33m and\u001b[0m\u001b[33m networking\u001b[0m\u001b[33m,\u001b[0m\u001b[33m new\u001b[0m\u001b[33m capabilities\u001b[0m\u001b[33m to\u001b[0m\u001b[33m leverage\u001b[0m\u001b[33m gener\u001b[0m\u001b[33mative\u001b[0m\u001b[33m AI\u001b[0m\u001b[33m,\u001b[0m\u001b[33m and\u001b[0m\u001b[33m continued\u001b[0m\u001b[33m investment\u001b[0m\u001b[33m in\u001b[0m\u001b[33m Red\u001b[0m\u001b[33m Hat\u001b[0m\u001b[33m Open\u001b[0m\u001b[33mShift\u001b[0m\u001b[33m Platform\u001b[0m\u001b[33m Plus\u001b[0m\u001b[33m.\u001b[0m\u001b[33m\n",
      "\u001b[0m\u001b[33m\n",
      "\u001b[0m\u001b[33m3\u001b[0m\u001b[33m.\u001b[0m\u001b[33m **\u001b[0m\u001b[33mRed\u001b[0m\u001b[33m Hat\u001b[0m\u001b[33m Open\u001b[0m\u001b[33mShift\u001b[0m\u001b[33m Platform\u001b[0m\u001b[33m Plus\u001b[0m\u001b[33m (\u001b[0m\u001b[33mOP\u001b[0m\u001b[33mP\u001b[0m\u001b[33m)\u001b[0m\u001b[33m**:\u001b[0m\u001b[33m This\u001b[0m\u001b[33m is\u001b[0m\u001b[33m an\u001b[0m\u001b[33m expanded\u001b[0m\u001b[33m version\u001b[0m\u001b[33m of\u001b[0m\u001b[33m Red\u001b[0m\u001b[33m Hat\u001b[0m\u001b[33m Open\u001b[0m\u001b[33mShift\u001b[0m\u001b[33m that\u001b[0m\u001b[33m provides\u001b[0m\u001b[33m a\u001b[0m\u001b[33m comprehensive\u001b[0m\u001b[33m hybrid\u001b[0m\u001b[33m cloud\u001b[0m\u001b[33m platform\u001b[0m\u001b[33m with\u001b[0m\u001b[33m built\u001b[0m\u001b[33m-\u001b[0m\u001b[33min\u001b[0m\u001b[33m security\u001b[0m\u001b[33m features\u001b[0m\u001b[33m for\u001b[0m\u001b[33m enter\u001b[0m\u001b[33mpri\u001b[0m\u001b[33mses\u001b[0m\u001b[33m to\u001b[0m\u001b[33m build\u001b[0m\u001b[33m,\u001b[0m\u001b[33m deploy\u001b[0m\u001b[33m,\u001b[0m\u001b[33m run\u001b[0m\u001b[33m,\u001b[0m\u001b[33m manage\u001b[0m\u001b[33m,\u001b[0m\u001b[33m and\u001b[0m\u001b[33m automate\u001b[0m\u001b[33m applications\u001b[0m\u001b[33m at\u001b[0m\u001b[33m scale\u001b[0m\u001b[33m.\u001b[0m\u001b[33m\n",
      "\u001b[0m\u001b[33m\n",
      "\u001b[0m\u001b[33m4\u001b[0m\u001b[33m.\u001b[0m\u001b[33m **\u001b[0m\u001b[33mRed\u001b[0m\u001b[33m Hat\u001b[0m\u001b[33m Open\u001b[0m\u001b[33mShift\u001b[0m\u001b[33m Data\u001b[0m\u001b[33m Foundation\u001b[0m\u001b[33m (\u001b[0m\u001b[33mO\u001b[0m\u001b[33mDF\u001b[0m\u001b[33m)\u001b[0m\u001b[33m**:\u001b[0m\u001b[33m In\u001b[0m\u001b[33m O\u001b[0m\u001b[33mDF\u001b[0m\u001b[33m \u001b[0m\u001b[33m4\u001b[0m\u001b[33m.\u001b[0m\u001b[33m1\u001b[0m\u001b[33m7\u001b[0m\u001b[33m.\u001b[0m\u001b[33mz\u001b[0m\u001b[33m,\u001b[0m\u001b[33m the\u001b[0m\u001b[33m use\u001b[0m\u001b[33m of\u001b[0m\u001b[33m customer\u001b[0m\u001b[33m-\u001b[0m\u001b[33mmanaged\u001b[0m\u001b[33m O\u001b[0m\u001b[33mDF\u001b[0m\u001b[33m with\u001b[0m\u001b[33m Red\u001b[0m\u001b[33m Hat\u001b[0m\u001b[33m Open\u001b[0m\u001b[33mShift\u001b[0m\u001b[33m Service\u001b[0m\u001b[33m on\u001b[0m\u001b[33m AWS\u001b[0m\u001b[33m with\u001b[0m\u001b[33m hosted\u001b[0m\u001b[33m control\u001b[0m\u001b[33m planes\u001b[0m\u001b[33m clusters\u001b[0m\u001b[33m is\u001b[0m\u001b[33m now\u001b[0m\u001b[33m prom\u001b[0m\u001b[33moted\u001b[0m\u001b[33m to\u001b[0m\u001b[33m general\u001b[0m\u001b[33m availability\u001b[0m\u001b[33m.\u001b[0m\u001b[33m\n",
      "\u001b[0m\u001b[33m\n",
      "\u001b[0m\u001b[33m5\u001b[0m\u001b[33m.\u001b[0m\u001b[33m **\u001b[0m\u001b[33mExtended\u001b[0m\u001b[33m Update\u001b[0m\u001b[33m Support\u001b[0m\u001b[33m**:\u001b[0m\u001b[33m Red\u001b[0m\u001b[33m Hat\u001b[0m\u001b[33m offers\u001b[0m\u001b[33m an\u001b[0m\u001b[33m Extended\u001b[0m\u001b[33m Update\u001b[0m\u001b[33m Support\u001b[0m\u001b[33m -\u001b[0m\u001b[33m Long\u001b[0m\u001b[33m Life\u001b[0m\u001b[33m Add\u001b[0m\u001b[33m-\u001b[0m\u001b[33mon\u001b[0m\u001b[33m -\u001b[0m\u001b[33m Additional\u001b[0m\u001b[33m Term\u001b[0m\u001b[33m \u001b[0m\u001b[33m1\u001b[0m\u001b[33m,\u001b[0m\u001b[33m which\u001b[0m\u001b[33m enables\u001b[0m\u001b[33m customers\u001b[0m\u001b[33m to\u001b[0m\u001b[33m remain\u001b[0m\u001b[33m with\u001b[0m\u001b[33m the\u001b[0m\u001b[33m same\u001b[0m\u001b[33m minor\u001b[0m\u001b[33m release\u001b[0m\u001b[33m of\u001b[0m\u001b[33m Red\u001b[0m\u001b[33m Hat\u001b[0m\u001b[33m Open\u001b[0m\u001b[33mShift\u001b[0m\u001b[33m for\u001b[0m\u001b[33m a\u001b[0m\u001b[33m total\u001b[0m\u001b[33m of\u001b[0m\u001b[33m \u001b[0m\u001b[33m2\u001b[0m\u001b[33m4\u001b[0m\u001b[33m months\u001b[0m\u001b[33m,\u001b[0m\u001b[33m allowing\u001b[0m\u001b[33m for\u001b[0m\u001b[33m stable\u001b[0m\u001b[33m production\u001b[0m\u001b[33m environments\u001b[0m\u001b[33m for\u001b[0m\u001b[33m mission\u001b[0m\u001b[33m-\u001b[0m\u001b[33mcritical\u001b[0m\u001b[33m applications\u001b[0m\u001b[33m.\u001b[0m\u001b[33m\n",
      "\u001b[0m\u001b[33m\n",
      "\u001b[0m\u001b[33m6\u001b[0m\u001b[33m.\u001b[0m\u001b[33m **\u001b[0m\u001b[33mRed\u001b[0m\u001b[33m Hat\u001b[0m\u001b[33m Open\u001b[0m\u001b[33mShift\u001b[0m\u001b[33m AI\u001b[0m\u001b[33m**:\u001b[0m\u001b[33m There\u001b[0m\u001b[33m's\u001b[0m\u001b[33m a\u001b[0m\u001b[33m technology\u001b[0m\u001b[33m preview\u001b[0m\u001b[33m of\u001b[0m\u001b[33m Red\u001b[0m\u001b[33m Hat\u001b[0m\u001b[33m Open\u001b[0m\u001b[33mShift\u001b[0m\u001b[33m L\u001b[0m\u001b[33mights\u001b[0m\u001b[33mpeed\u001b[0m\u001b[33m,\u001b[0m\u001b[33m which\u001b[0m\u001b[33m now\u001b[0m\u001b[33m adds\u001b[0m\u001b[33m support\u001b[0m\u001b[33m for\u001b[0m\u001b[33m Red\u001b[0m\u001b[33m Hat\u001b[0m\u001b[33m Open\u001b[0m\u001b[33mShift\u001b[0m\u001b[33m AI\u001b[0m\u001b[33m and\u001b[0m\u001b[33m Red\u001b[0m\u001b[33m Hat\u001b[0m\u001b[33m Enterprise\u001b[0m\u001b[33m Linux\u001b[0m\u001b[33m AI\u001b[0m\u001b[33m as\u001b[0m\u001b[33m model\u001b[0m\u001b[33m providers\u001b[0m\u001b[33m,\u001b[0m\u001b[33m enabling\u001b[0m\u001b[33m organizations\u001b[0m\u001b[33m to\u001b[0m\u001b[33m use\u001b[0m\u001b[33m Red\u001b[0m\u001b[33m Hat\u001b[0m\u001b[33m as\u001b[0m\u001b[33m the\u001b[0m\u001b[33m source\u001b[0m\u001b[33m of\u001b[0m\u001b[33m the\u001b[0m\u001b[33m underlying\u001b[0m\u001b[33m LL\u001b[0m\u001b[33mM\u001b[0m\u001b[33m.\u001b[0m\u001b[33m\n",
      "\u001b[0m\u001b[33m\n",
      "\u001b[0m\u001b[33mRemember\u001b[0m\u001b[33m to\u001b[0m\u001b[33m check\u001b[0m\u001b[33m the\u001b[0m\u001b[33m release\u001b[0m\u001b[33m notes\u001b[0m\u001b[33m for\u001b[0m\u001b[33m a\u001b[0m\u001b[33m comprehensive\u001b[0m\u001b[33m list\u001b[0m\u001b[33m of\u001b[0m\u001b[33m updates\u001b[0m\u001b[33m.\u001b[0m\u001b[97m\u001b[0m\n",
      "\u001b[30m\u001b[0m"
     ]
    }
   ],
   "source": [
    "session_id = agent.create_session(\"test-session\")\n",
    "for prompt in user_prompts:\n",
    "    cprint(f\"User> {prompt}\", \"green\")\n",
    "    response = agent.create_turn(\n",
    "        messages=[\n",
    "            {\n",
    "                \"role\": \"user\",\n",
    "                \"content\": prompt,\n",
    "            }\n",
    "        ],\n",
    "        session_id=session_id,\n",
    "    )\n",
    "    for log in EventLogger().log(response):\n",
    "        log.print()"
   ]
  },
  {
   "cell_type": "markdown",
   "metadata": {},
   "source": [
    "## Key Takeaways\n",
    "- This tutorial demonstrates how to set up and use a single tool with Agentic.\n",
    "- It highlights the flexibility of switching between remote and local environments.\n",
    "- By following these steps, users can quickly get started with Agentic and explore its capabilities.\n",
    "\n",
    "For more advanced use cases, please check our other example jupyter notebooks."
   ]
  }
 ],
 "metadata": {
  "kernelspec": {
   "display_name": "stackclientv19",
   "language": "python",
   "name": "python3"
  },
  "language_info": {
   "codemirror_mode": {
    "name": "ipython",
    "version": 3
   },
   "file_extension": ".py",
   "mimetype": "text/x-python",
   "name": "python",
   "nbconvert_exporter": "python",
   "pygments_lexer": "ipython3",
   "version": "3.10.9"
  }
 },
 "nbformat": 4,
 "nbformat_minor": 2
}
