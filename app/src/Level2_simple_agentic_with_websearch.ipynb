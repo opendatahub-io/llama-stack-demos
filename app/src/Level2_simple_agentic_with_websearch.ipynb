{
 "cells": [
  {
   "cell_type": "markdown",
   "metadata": {},
   "source": [
    "# Level 2: Simple Agentic \n",
    "\n",
    "This tutorial is designed to give new users an overview of how to use llama-stack's builtin agent framework effectively. It demonstrates basic single-tool usage and provides guidance on switching between a local development environment and a remote kubernetes cluster.\n",
    "\n",
    "## Overview\n",
    "\n",
    "This tutorial walks you through how to build your own AI agent who can search the web following these steps:\n",
    "1. Connecting to a llama-stack server (remote or local).\n",
    "2. Configuring an agent for tool use.\n",
    "3. Running the agent.\n",
    "\n",
    "\n",
    "## Prerequisites\n",
    "\n",
    "Before starting, ensure you have the following:\n",
    "- Access to a remote cluster or a local Podman setup.\n",
    "- API keys and user variables configured (e.g., `inference_model`, `TAVILY_SEARCH_API_KEY`, `LLAMA_STACK_ENDPOINT`).\n",
    "- A Tavily API key is required. You can register for one at [https://tavily.com/](https://tavily.com/).\n"
   ]
  },
  {
   "cell_type": "markdown",
   "metadata": {},
   "source": [
    "## Building a Web Search Agent\n",
    "### 1. Connecting to a llama-stack server.\n",
    "#### 1.1 Setting Up the Environment\n",
    "- Import the necessary libraries.\n",
    "- Defining user variables.\n",
    "- Connection options\n",
    "    - **Remote Server**: Set `remote=True` and provide the remote llama-stack endpoint.\n",
    "    - **Local Server**: Set `remote=False` and provide the local llama-stack port (default: 8321).\n",
    "    \n",
    "    For detailed llama-stack server setup instructions, refer to:\n",
    "    - [Remote Setup Guide](https://github.com/opendatahub-io/llama-stack-on-ocp/tree/main/kubernetes)\n",
    "    - [Local Setup Guide](https://github.com/redhat-et/agent-frameworks/tree/main/prototype/frameworks/llamastack)"
   ]
  },
  {
   "cell_type": "code",
   "execution_count": null,
   "metadata": {},
   "outputs": [
    {
     "name": "stdout",
     "output_type": "stream",
     "text": [
      "Model: ibm-granite/granite-3.2-8b-instruct\n"
     ]
    }
   ],
   "source": [
    "from llama_stack_client.lib.agents.agent import Agent\n",
    "from llama_stack_client.lib.agents.event_logger import EventLogger\n",
    "from llama_stack_client import LlamaStackClient\n",
    "from termcolor import cprint\n",
    "\n",
    "inference_model = \"ibm-granite/granite-3.2-8b-instruct\"\n",
    "TAVILY_SEARCH_API_KEY = \"YOUR_TAVILY_API_KEY\" # Replace with your tavily API key\n",
    "\n",
    "remote = True # Use the `remote` variable to switching between a local development environment and a remote kubernetes cluster.\n",
    "LLAMA_STACK_ENDPOINT = \"your-llama-stack-endpoint\" # Replace with your llama-stack endpoint if remote is set to True, or set it to default port 8321 if remote is set to False.\n",
    "\n",
    "print(f\"Model: {inference_model}\")"
   ]
  },
  {
   "cell_type": "markdown",
   "metadata": {},
   "source": [
    "#### 1.2 Client Initialization\n",
    "- Initialize the `LlamaStackClient` with the appropriate base URL and provider data.  \n",
    "- Connect the llama-stack client to the llama-stack server using the base URL."
   ]
  },
  {
   "cell_type": "code",
   "execution_count": 2,
   "metadata": {},
   "outputs": [],
   "source": [
    "base_url = LLAMA_STACK_ENDPOINT if remote else f\"http://localhost:{LLAMA_STACK_ENDPOINT}\"\n",
    "client = LlamaStackClient(\n",
    "        base_url=base_url,\n",
    "        provider_data={\"tavily_search_api_key\": TAVILY_SEARCH_API_KEY}\n",
    ")"
   ]
  },
  {
   "cell_type": "markdown",
   "metadata": {},
   "source": [
    "### 2. Configuring an agent for tool use.\n",
    "- **Agent Initialization**: \n",
    "\n",
    "- Create an `Agent` instance with the desired model, instructions, tools.\"\n",
    "\n",
    "- **Instructions**: The `instructions` parameter, also referred to as the system prompt, specifies the agent's role and behavior. In this example, the agent is configured as a helpful web search assistant. It is instructed to use a tool whenever a web search is required and to respond in a friendly and helpful tone.\n",
    "\n",
    "- **Tools**: The `tools` parameter defines the tools available to the agent. In this case, the `builtin::websearch` tool is used, which enables the agent to perform web searches. This tool is essential for retrieving up-to-date information from the web. Internally, it leverages Tavily Search to execute the search queries efficiently.\n",
    "\n",
    "- **Tool Configuration**: The `tool_config` parameter allows for additional customization of the tools. For instance, the `\"tool_choice\": \"required\"` setting ensures that the agent must invoke the specified tool when performing a task. \n",
    "\n",
    "- **How It Works**: When a user query is provided, the agent processes the input and determines whether a tool is required to fulfill the request. If the query involves retrieving information from the web, the agent invokes the `builtin::websearch` tool. The tool interacts with Tavily Search to fetch real-time data, which is then processed and returned to the user in a friendly and helpful tone. This workflow ensures that the agent can handle a wide range of queries effectively.\n",
    "\n",
    "For more details on the `builtin::websearch` tool and its capabilities, refer to the [Llama-stack tools documentation](https://llama-stack.readthedocs.io/en/latest/building_applications/tools.html). "
   ]
  },
  {
   "cell_type": "code",
   "execution_count": 3,
   "metadata": {},
   "outputs": [],
   "source": [
    "agent = Agent(\n",
    "    client, \n",
    "    model=inference_model,\n",
    "    instructions=\"\"\"You are a helpful websearch assistant. When you are asked to search the web you must use a tool. \n",
    "            Whenever a tool is called, be sure return the response in a friendly and helpful tone.\n",
    "            \"\"\" ,\n",
    "    tools=[\"builtin::websearch\"],\n",
    "    tool_config={\"tool_choice\":\"required\"},\n",
    "    sampling_params={\"max_tokens\":4096}\n",
    ")"
   ]
  },
  {
   "cell_type": "markdown",
   "metadata": {},
   "source": [
    "### 3. Running the agent.\n",
    "- Define user prompts to interact with the agent.\n",
    "- Use the agent to create a session and process user queries.\n",
    "- Display the agent's responses for each query."
   ]
  },
  {
   "cell_type": "code",
   "execution_count": 4,
   "metadata": {},
   "outputs": [
    {
     "name": "stdout",
     "output_type": "stream",
     "text": [
      "\u001b[34mUser> What’s latest in OpenShift?\u001b[0m\n",
      "\u001b[33minference> \u001b[0m\u001b[33m<\u001b[0m\u001b[33mtool\u001b[0m\u001b[33m_\u001b[0m\u001b[33mcall\u001b[0m\u001b[33m>\u001b[0m\u001b[97m\u001b[0m\n",
      "\u001b[32mtool_execution> Tool:brave_search Args:{'query': 'latest updates on OpenShift'}\u001b[0m\n",
      "\u001b[32mtool_execution> Tool:brave_search Response:{\"query\": \"latest updates on OpenShift\", \"top_k\": [{\"title\": \"Red Hat unveils OpenShift 4.18: Enhanced security and virtualization ...\", \"url\": \"https://www.redhat.com/en/blog/what-you-need-to-know-red-hat-openshift-418\", \"content\": \"This article highlights the latest OpenShift 4.18 innovations and key enhancements. For a comprehensive list of updates and improvements, refer to the OpenShift 4.18 Release Notes. Enhance network flexibility with User Defined Networks and Border Gateway Protocol for pods and virtual machines\", \"score\": 0.85567063, \"raw_content\": null}, {\"title\": \"Experience the many enhancements in OpenShift 4.18\", \"url\": \"https://developers.redhat.com/blog/2025/02/25/whats-new-developers-red-hat-openshift-418\", \"content\": \"For an in-depth review of all of the latest features, including updates for plug-ins and templates, refer to What's new in Red Hat Developer Hub 1.4. Red Hat OpenShift Virtualization Engine It is optimized for bare metal operating in a limited space and supports 128 cores per bare-metal socket pair.\", \"score\": 0.78963995, \"raw_content\": null}, {\"title\": \"Red Hat OpenShift 4.17: What you need to know\", \"url\": \"https://www.redhat.com/en/blog/what-you-need-to-know-red-hat-openshift-417\", \"content\": \"Red Hat OpenShift 4.17 is now generally available. Based on Kubernetes 1.30 and CRI-O 1.30, OpenShift 4.17 features expanded control plane options, increased flexibility for virtualization and networking, new capabilities to leverage generative AI, and continued investment in Red Hat OpenShift Platform Plus.These additions further accelerate innovation with OpenShift without compromising on\", \"score\": 0.767429, \"raw_content\": null}, {\"title\": \"Red Hat OpenShift Container Platform Life Cycle Policy\", \"url\": \"https://access.redhat.com/support/policy/updates/openshift/\", \"content\": \"This life cycle page refers only to the latest major version of Red Hat OpenShift. ... and Important impact security updates and urgent-priority bug fixes for a predefined set of minor releases of Red Hat OpenShift. Extended Update Support - Long Life Add-on - Additional Term 1 enables customers to remain with the same minor release of Red Hat\", \"score\": 0.6466616, \"raw_content\": null}, {\"title\": \"What's new in Red Hat OpenShift\", \"url\": \"https://www.redhat.com/en/whats-new-red-hat-openshift\", \"content\": \"Red Hat AI A portfolio for developing and deploying artificial intelligence solutions across the hybrid cloud.; Red Hat Enterprise Linux A flexible, stable operating system to support hybrid cloud innovation.; Red Hat OpenShift A container platform to build, modernize, and deploy applications at scale.; Red Hat Ansible Automation Platform A foundation for implementing enterprise-wide automation.\", \"score\": 0.31019315, \"raw_content\": null}]}\u001b[0m\n",
      "\u001b[33minference> \u001b[0m\u001b[33mHere\u001b[0m\u001b[33m are\u001b[0m\u001b[33m the\u001b[0m\u001b[33m latest\u001b[0m\u001b[33m updates\u001b[0m\u001b[33m on\u001b[0m\u001b[33m Open\u001b[0m\u001b[33mShift\u001b[0m\u001b[33m:\u001b[0m\u001b[33m\n",
      "\u001b[0m\u001b[33m\n",
      "\u001b[0m\u001b[33m1\u001b[0m\u001b[33m.\u001b[0m\u001b[33m **\u001b[0m\u001b[33mRed\u001b[0m\u001b[33m Hat\u001b[0m\u001b[33m un\u001b[0m\u001b[33mve\u001b[0m\u001b[33mils\u001b[0m\u001b[33m Open\u001b[0m\u001b[33mShift\u001b[0m\u001b[33m \u001b[0m\u001b[33m4\u001b[0m\u001b[33m.\u001b[0m\u001b[33m1\u001b[0m\u001b[33m8\u001b[0m\u001b[33m:\u001b[0m\u001b[33m En\u001b[0m\u001b[33mhanced\u001b[0m\u001b[33m security\u001b[0m\u001b[33m and\u001b[0m\u001b[33m virtual\u001b[0m\u001b[33mization\u001b[0m\u001b[33m**\u001b[0m\u001b[33m\n",
      "  \u001b[0m\u001b[33m -\u001b[0m\u001b[33m This\u001b[0m\u001b[33m version\u001b[0m\u001b[33m introduces\u001b[0m\u001b[33m improvements\u001b[0m\u001b[33m in\u001b[0m\u001b[33m network\u001b[0m\u001b[33m flexibility\u001b[0m\u001b[33m with\u001b[0m\u001b[33m User\u001b[0m\u001b[33m Defined\u001b[0m\u001b[33m Networks\u001b[0m\u001b[33m and\u001b[0m\u001b[33m Border\u001b[0m\u001b[33m Gateway\u001b[0m\u001b[33m Protocol\u001b[0m\u001b[33m for\u001b[0m\u001b[33m pods\u001b[0m\u001b[33m and\u001b[0m\u001b[33m virtual\u001b[0m\u001b[33m machines\u001b[0m\u001b[33m.\u001b[0m\u001b[33m\n",
      "  \u001b[0m\u001b[33m -\u001b[0m\u001b[33m For\u001b[0m\u001b[33m a\u001b[0m\u001b[33m detailed\u001b[0m\u001b[33m list\u001b[0m\u001b[33m of\u001b[0m\u001b[33m updates\u001b[0m\u001b[33m and\u001b[0m\u001b[33m improvements\u001b[0m\u001b[33m,\u001b[0m\u001b[33m check\u001b[0m\u001b[33m out\u001b[0m\u001b[33m the\u001b[0m\u001b[33m [\u001b[0m\u001b[33mOpen\u001b[0m\u001b[33mShift\u001b[0m\u001b[33m \u001b[0m\u001b[33m4\u001b[0m\u001b[33m.\u001b[0m\u001b[33m1\u001b[0m\u001b[33m8\u001b[0m\u001b[33m Release\u001b[0m\u001b[33m Notes\u001b[0m\u001b[33m](\u001b[0m\u001b[33mhttps\u001b[0m\u001b[33m://\u001b[0m\u001b[33mwww\u001b[0m\u001b[33m.\u001b[0m\u001b[33mredhat\u001b[0m\u001b[33m.\u001b[0m\u001b[33mcom\u001b[0m\u001b[33m/\u001b[0m\u001b[33men\u001b[0m\u001b[33m/\u001b[0m\u001b[33mblog\u001b[0m\u001b[33m/\u001b[0m\u001b[33mwhat\u001b[0m\u001b[33m-\u001b[0m\u001b[33myou\u001b[0m\u001b[33m-\u001b[0m\u001b[33mneed\u001b[0m\u001b[33m-\u001b[0m\u001b[33mto\u001b[0m\u001b[33m-\u001b[0m\u001b[33mknow\u001b[0m\u001b[33m-\u001b[0m\u001b[33mred\u001b[0m\u001b[33m-\u001b[0m\u001b[33mhat\u001b[0m\u001b[33m-\u001b[0m\u001b[33mopenshift\u001b[0m\u001b[33m-\u001b[0m\u001b[33m4\u001b[0m\u001b[33m1\u001b[0m\u001b[33m8\u001b[0m\u001b[33m).\u001b[0m\u001b[33m\n",
      "\u001b[0m\u001b[33m\n",
      "\u001b[0m\u001b[33m2\u001b[0m\u001b[33m.\u001b[0m\u001b[33m **\u001b[0m\u001b[33mExperience\u001b[0m\u001b[33m the\u001b[0m\u001b[33m many\u001b[0m\u001b[33m enhance\u001b[0m\u001b[33mments\u001b[0m\u001b[33m in\u001b[0m\u001b[33m Open\u001b[0m\u001b[33mShift\u001b[0m\u001b[33m \u001b[0m\u001b[33m4\u001b[0m\u001b[33m.\u001b[0m\u001b[33m1\u001b[0m\u001b[33m8\u001b[0m\u001b[33m**\u001b[0m\u001b[33m\n",
      "  \u001b[0m\u001b[33m -\u001b[0m\u001b[33m This\u001b[0m\u001b[33m article\u001b[0m\u001b[33m provides\u001b[0m\u001b[33m an\u001b[0m\u001b[33m overview\u001b[0m\u001b[33m of\u001b[0m\u001b[33m the\u001b[0m\u001b[33m latest\u001b[0m\u001b[33m features\u001b[0m\u001b[33m,\u001b[0m\u001b[33m including\u001b[0m\u001b[33m updates\u001b[0m\u001b[33m for\u001b[0m\u001b[33m plug\u001b[0m\u001b[33m-\u001b[0m\u001b[33mins\u001b[0m\u001b[33m and\u001b[0m\u001b[33m templates\u001b[0m\u001b[33m.\u001b[0m\u001b[33m\n",
      "  \u001b[0m\u001b[33m -\u001b[0m\u001b[33m For\u001b[0m\u001b[33m a\u001b[0m\u001b[33m comprehensive\u001b[0m\u001b[33m review\u001b[0m\u001b[33m,\u001b[0m\u001b[33m refer\u001b[0m\u001b[33m to\u001b[0m\u001b[33m [\u001b[0m\u001b[33mWhat\u001b[0m\u001b[33m's\u001b[0m\u001b[33m new\u001b[0m\u001b[33m in\u001b[0m\u001b[33m Red\u001b[0m\u001b[33m Hat\u001b[0m\u001b[33m Developer\u001b[0m\u001b[33m Hub\u001b[0m\u001b[33m \u001b[0m\u001b[33m1\u001b[0m\u001b[33m.\u001b[0m\u001b[33m4\u001b[0m\u001b[33m](\u001b[0m\u001b[33mhttps\u001b[0m\u001b[33m://\u001b[0m\u001b[33mdevelopers\u001b[0m\u001b[33m.\u001b[0m\u001b[33mredhat\u001b[0m\u001b[33m.\u001b[0m\u001b[33mcom\u001b[0m\u001b[33m/\u001b[0m\u001b[33mblog\u001b[0m\u001b[33m/\u001b[0m\u001b[33m2\u001b[0m\u001b[33m0\u001b[0m\u001b[33m2\u001b[0m\u001b[33m5\u001b[0m\u001b[33m/\u001b[0m\u001b[33m0\u001b[0m\u001b[33m2\u001b[0m\u001b[33m/\u001b[0m\u001b[33m2\u001b[0m\u001b[33m5\u001b[0m\u001b[33m/\u001b[0m\u001b[33mwhats\u001b[0m\u001b[33m-\u001b[0m\u001b[33mnew\u001b[0m\u001b[33m-\u001b[0m\u001b[33mdevelopers\u001b[0m\u001b[33m-\u001b[0m\u001b[33mred\u001b[0m\u001b[33m-\u001b[0m\u001b[33mhat\u001b[0m\u001b[33m-\u001b[0m\u001b[33mopenshift\u001b[0m\u001b[33m-\u001b[0m\u001b[33m4\u001b[0m\u001b[33m1\u001b[0m\u001b[33m8\u001b[0m\u001b[33m).\u001b[0m\u001b[33m\n",
      "\u001b[0m\u001b[33m\n",
      "\u001b[0m\u001b[33m3\u001b[0m\u001b[33m.\u001b[0m\u001b[33m **\u001b[0m\u001b[33mRed\u001b[0m\u001b[33m Hat\u001b[0m\u001b[33m Open\u001b[0m\u001b[33mShift\u001b[0m\u001b[33m \u001b[0m\u001b[33m4\u001b[0m\u001b[33m.\u001b[0m\u001b[33m1\u001b[0m\u001b[33m7\u001b[0m\u001b[33m:\u001b[0m\u001b[33m What\u001b[0m\u001b[33m you\u001b[0m\u001b[33m need\u001b[0m\u001b[33m to\u001b[0m\u001b[33m know\u001b[0m\u001b[33m**\u001b[0m\u001b[33m\n",
      "  \u001b[0m\u001b[33m -\u001b[0m\u001b[33m Open\u001b[0m\u001b[33mShift\u001b[0m\u001b[33m \u001b[0m\u001b[33m4\u001b[0m\u001b[33m.\u001b[0m\u001b[33m1\u001b[0m\u001b[33m7\u001b[0m\u001b[33m,\u001b[0m\u001b[33m based\u001b[0m\u001b[33m on\u001b[0m\u001b[33m Kubernetes\u001b[0m\u001b[33m \u001b[0m\u001b[33m1\u001b[0m\u001b[33m.\u001b[0m\u001b[33m3\u001b[0m\u001b[33m0\u001b[0m\u001b[33m and\u001b[0m\u001b[33m C\u001b[0m\u001b[33mRI\u001b[0m\u001b[33m-\u001b[0m\u001b[33mO\u001b[0m\u001b[33m \u001b[0m\u001b[33m1\u001b[0m\u001b[33m.\u001b[0m\u001b[33m3\u001b[0m\u001b[33m0\u001b[0m\u001b[33m,\u001b[0m\u001b[33m offers\u001b[0m\u001b[33m expanded\u001b[0m\u001b[33m control\u001b[0m\u001b[33m plane\u001b[0m\u001b[33m options\u001b[0m\u001b[33m,\u001b[0m\u001b[33m increased\u001b[0m\u001b[33m flexibility\u001b[0m\u001b[33m for\u001b[0m\u001b[33m virtual\u001b[0m\u001b[33mization\u001b[0m\u001b[33m and\u001b[0m\u001b[33m networking\u001b[0m\u001b[33m,\u001b[0m\u001b[33m and\u001b[0m\u001b[33m new\u001b[0m\u001b[33m capabilities\u001b[0m\u001b[33m to\u001b[0m\u001b[33m leverage\u001b[0m\u001b[33m gener\u001b[0m\u001b[33mative\u001b[0m\u001b[33m AI\u001b[0m\u001b[33m.\u001b[0m\u001b[33m\n",
      "  \u001b[0m\u001b[33m -\u001b[0m\u001b[33m It\u001b[0m\u001b[33m also\u001b[0m\u001b[33m continues\u001b[0m\u001b[33m to\u001b[0m\u001b[33m invest\u001b[0m\u001b[33m in\u001b[0m\u001b[33m Red\u001b[0m\u001b[33m Hat\u001b[0m\u001b[33m Open\u001b[0m\u001b[33mShift\u001b[0m\u001b[33m Platform\u001b[0m\u001b[33m Plus\u001b[0m\u001b[33m.\u001b[0m\u001b[33m\n",
      "  \u001b[0m\u001b[33m -\u001b[0m\u001b[33m For\u001b[0m\u001b[33m more\u001b[0m\u001b[33m details\u001b[0m\u001b[33m,\u001b[0m\u001b[33m see\u001b[0m\u001b[33m [\u001b[0m\u001b[33mRed\u001b[0m\u001b[33m Hat\u001b[0m\u001b[33m Open\u001b[0m\u001b[33mShift\u001b[0m\u001b[33m \u001b[0m\u001b[33m4\u001b[0m\u001b[33m.\u001b[0m\u001b[33m1\u001b[0m\u001b[33m7\u001b[0m\u001b[33m:\u001b[0m\u001b[33m What\u001b[0m\u001b[33m you\u001b[0m\u001b[33m need\u001b[0m\u001b[33m to\u001b[0m\u001b[33m know\u001b[0m\u001b[33m](\u001b[0m\u001b[33mhttps\u001b[0m\u001b[33m://\u001b[0m\u001b[33mwww\u001b[0m\u001b[33m.\u001b[0m\u001b[33mredhat\u001b[0m\u001b[33m.\u001b[0m\u001b[33mcom\u001b[0m\u001b[33m/\u001b[0m\u001b[33men\u001b[0m\u001b[33m/\u001b[0m\u001b[33mblog\u001b[0m\u001b[33m/\u001b[0m\u001b[33mwhat\u001b[0m\u001b[33m-\u001b[0m\u001b[33myou\u001b[0m\u001b[33m-\u001b[0m\u001b[33mneed\u001b[0m\u001b[33m-\u001b[0m\u001b[33mto\u001b[0m\u001b[33m-\u001b[0m\u001b[33mknow\u001b[0m\u001b[33m-\u001b[0m\u001b[33mred\u001b[0m\u001b[33m-\u001b[0m\u001b[33mhat\u001b[0m\u001b[33m-\u001b[0m\u001b[33mopenshift\u001b[0m\u001b[33m-\u001b[0m\u001b[33m4\u001b[0m\u001b[33m1\u001b[0m\u001b[33m7\u001b[0m\u001b[33m).\u001b[0m\u001b[33m\n",
      "\u001b[0m\u001b[33m\n",
      "\u001b[0m\u001b[33m4\u001b[0m\u001b[33m.\u001b[0m\u001b[33m **\u001b[0m\u001b[33mRed\u001b[0m\u001b[33m Hat\u001b[0m\u001b[33m Open\u001b[0m\u001b[33mShift\u001b[0m\u001b[33m Container\u001b[0m\u001b[33m Platform\u001b[0m\u001b[33m Life\u001b[0m\u001b[33m Cycle\u001b[0m\u001b[33m Policy\u001b[0m\u001b[33m**\u001b[0m\u001b[33m\n",
      "  \u001b[0m\u001b[33m -\u001b[0m\u001b[33m This\u001b[0m\u001b[33m policy\u001b[0m\u001b[33m out\u001b[0m\u001b[33mlines\u001b[0m\u001b[33m the\u001b[0m\u001b[33m support\u001b[0m\u001b[33m and\u001b[0m\u001b[33m updates\u001b[0m\u001b[33m for\u001b[0m\u001b[33m different\u001b[0m\u001b[33m versions\u001b[0m\u001b[33m of\u001b[0m\u001b[33m Red\u001b[0m\u001b[33m Hat\u001b[0m\u001b[33m Open\u001b[0m\u001b[33mShift\u001b[0m\u001b[33m.\u001b[0m\u001b[33m\n",
      "  \u001b[0m\u001b[33m -\u001b[0m\u001b[33m It\u001b[0m\u001b[33m includes\u001b[0m\u001b[33m details\u001b[0m\u001b[33m about\u001b[0m\u001b[33m Extended\u001b[0m\u001b[33m Update\u001b[0m\u001b[33m Support\u001b[0m\u001b[33m and\u001b[0m\u001b[33m the\u001b[0m\u001b[33m Long\u001b[0m\u001b[33m Life\u001b[0m\u001b[33m Add\u001b[0m\u001b[33m-\u001b[0m\u001b[33mon\u001b[0m\u001b[33m.\u001b[0m\u001b[33m\n",
      "  \u001b[0m\u001b[33m -\u001b[0m\u001b[33m You\u001b[0m\u001b[33m can\u001b[0m\u001b[33m find\u001b[0m\u001b[33m it\u001b[0m\u001b[33m [\u001b[0m\u001b[33mhere\u001b[0m\u001b[33m](\u001b[0m\u001b[33mhttps\u001b[0m\u001b[33m://\u001b[0m\u001b[33maccess\u001b[0m\u001b[33m.\u001b[0m\u001b[33mredhat\u001b[0m\u001b[33m.\u001b[0m\u001b[33mcom\u001b[0m\u001b[33m/\u001b[0m\u001b[33msupport\u001b[0m\u001b[33m/\u001b[0m\u001b[33mpolicy\u001b[0m\u001b[33m/\u001b[0m\u001b[33mupdates\u001b[0m\u001b[33m/\u001b[0m\u001b[33mopenshift\u001b[0m\u001b[33m/).\u001b[0m\u001b[33m\n",
      "\u001b[0m\u001b[33m\n",
      "\u001b[0m\u001b[33m5\u001b[0m\u001b[33m.\u001b[0m\u001b[33m **\u001b[0m\u001b[33mWhat\u001b[0m\u001b[33m's\u001b[0m\u001b[33m new\u001b[0m\u001b[33m in\u001b[0m\u001b[33m Red\u001b[0m\u001b[33m Hat\u001b[0m\u001b[33m Open\u001b[0m\u001b[33mShift\u001b[0m\u001b[33m**\u001b[0m\u001b[33m\n",
      "  \u001b[0m\u001b[33m -\u001b[0m\u001b[33m This\u001b[0m\u001b[33m page\u001b[0m\u001b[33m provides\u001b[0m\u001b[33m a\u001b[0m\u001b[33m high\u001b[0m\u001b[33m-\u001b[0m\u001b[33mlevel\u001b[0m\u001b[33m overview\u001b[0m\u001b[33m of\u001b[0m\u001b[33m Red\u001b[0m\u001b[33m Hat\u001b[0m\u001b[33m Open\u001b[0m\u001b[33mShift\u001b[0m\u001b[33m,\u001b[0m\u001b[33m along\u001b[0m\u001b[33m with\u001b[0m\u001b[33m other\u001b[0m\u001b[33m Red\u001b[0m\u001b[33m Hat\u001b[0m\u001b[33m offer\u001b[0m\u001b[33mings\u001b[0m\u001b[33m like\u001b[0m\u001b[33m Red\u001b[0m\u001b[33m Hat\u001b[0m\u001b[33m Enterprise\u001b[0m\u001b[33m Linux\u001b[0m\u001b[33m,\u001b[0m\u001b[33m Red\u001b[0m\u001b[33m Hat\u001b[0m\u001b[33m AI\u001b[0m\u001b[33m,\u001b[0m\u001b[33m and\u001b[0m\u001b[33m Red\u001b[0m\u001b[33m Hat\u001b[0m\u001b[33m Ansible\u001b[0m\u001b[33m Automation\u001b[0m\u001b[33m Platform\u001b[0m\u001b[33m.\u001b[0m\u001b[33m\n",
      "  \u001b[0m\u001b[33m -\u001b[0m\u001b[33m Visit\u001b[0m\u001b[33m [\u001b[0m\u001b[33mRed\u001b[0m\u001b[33m Hat\u001b[0m\u001b[33m's\u001b[0m\u001b[33m What\u001b[0m\u001b[33m's\u001b[0m\u001b[33m new\u001b[0m\u001b[33m in\u001b[0m\u001b[33m Red\u001b[0m\u001b[33m Hat\u001b[0m\u001b[33m Open\u001b[0m\u001b[33mShift\u001b[0m\u001b[33m page\u001b[0m\u001b[33m](\u001b[0m\u001b[33mhttps\u001b[0m\u001b[33m://\u001b[0m\u001b[33mwww\u001b[0m\u001b[33m.\u001b[0m\u001b[33mredhat\u001b[0m\u001b[33m.\u001b[0m\u001b[33mcom\u001b[0m\u001b[33m/\u001b[0m\u001b[33men\u001b[0m\u001b[33m/\u001b[0m\u001b[33mwhats\u001b[0m\u001b[33m-\u001b[0m\u001b[33mnew\u001b[0m\u001b[33m-\u001b[0m\u001b[33mred\u001b[0m\u001b[33m-\u001b[0m\u001b[33mhat\u001b[0m\u001b[33m-\u001b[0m\u001b[33mopenshift\u001b[0m\u001b[33m)\u001b[0m\u001b[33m for\u001b[0m\u001b[33m more\u001b[0m\u001b[33m information\u001b[0m\u001b[33m.\u001b[0m\u001b[33m\n",
      "\u001b[0m\u001b[33m\n",
      "\u001b[0m\u001b[33mRemember\u001b[0m\u001b[33m,\u001b[0m\u001b[33m for\u001b[0m\u001b[33m the\u001b[0m\u001b[33m most\u001b[0m\u001b[33m accurate\u001b[0m\u001b[33m and\u001b[0m\u001b[33m detailed\u001b[0m\u001b[33m information\u001b[0m\u001b[33m,\u001b[0m\u001b[33m always\u001b[0m\u001b[33m refer\u001b[0m\u001b[33m to\u001b[0m\u001b[33m the\u001b[0m\u001b[33m official\u001b[0m\u001b[33m Red\u001b[0m\u001b[33m Hat\u001b[0m\u001b[33m documentation\u001b[0m\u001b[33m and\u001b[0m\u001b[33m b\u001b[0m\u001b[33mlogs\u001b[0m\u001b[33m.\u001b[0m\u001b[97m\u001b[0m\n",
      "\u001b[30m\u001b[0m\u001b[34mUser> Search for recent news articles about advancements in quantum computing.\u001b[0m\n",
      "\u001b[33minference> \u001b[0m\u001b[33m<\u001b[0m\u001b[33mtool\u001b[0m\u001b[33m_\u001b[0m\u001b[33mcall\u001b[0m\u001b[33m>\u001b[0m\u001b[97m\u001b[0m\n",
      "\u001b[32mtool_execution> Tool:brave_search Args:{'query': 'recent news articles about advancements in quantum computing'}\u001b[0m\n",
      "\u001b[32mtool_execution> Tool:brave_search Response:{\"query\": \"recent news articles about advancements in quantum computing\", \"top_k\": [{\"title\": \"Quantum Computing News -- ScienceDaily\", \"url\": \"https://www.sciencedaily.com/news/matter_energy/quantum_computing/\", \"content\": \"Quantum Computing News March 2, 2025 Top Headlines Quantum Interference in Molecule-Surface Collisions Feb. 27, 2025 \\u2014 Scientists have revealed how quantum interference and symmetry dictate molecular behavior in collisions with gold surfaces, offering new insights into molecular interactions. Unraveling How a 'Magnetic Twist' Induces One-Way Electric Flow Feb. 27, 2025 \\u2014 A twist you'll never see coming: a breakthrough in understanding the relationship between chirality and electric flow at a microscopic level may help us develop chiral information ... Materials Incorporated Into Quantum Qubit Platform Feb. 25, 2025 \\u2014 Researchers detail advances in the measurement of quantum devices that will be needed to realize a topological quantum computer. The ... New Low-Cost Challenger to Quantum Computer: Ising Machine Feb. 26, 2025 \\u2014 A low-energy challenger to the quantum computer also works at room temperature. Quantum sensors ... Topological Quantum Processor Marks Breakthrough in Computing Feb. 20, 2025 \\u2014 In a leap forward for quantum computing, physicists unveiled an eight-qubit topological quantum processor, the first of its kind.\", \"score\": 0.88178825, \"raw_content\": null}, {\"title\": \"Quantum Computers News -- ScienceDaily\", \"url\": \"https://www.sciencedaily.com/news/computers_math/quantum_computers/\", \"content\": \"Quantum Computers News March 2, 2025 Top Headlines Materials Incorporated Into Quantum Qubit Platform Feb. 25, 2025 \\u2014 Researchers detail advances in the measurement of quantum devices that will be needed to realize a topological quantum computer. In an announcement, the team describes the operation of a device that is a necessary building block for a topological ... New Ocelot Chip Makes Strides in Quantum Computing Feb. 27, 2025 \\u2014 Scientists demonstrate a new quantum chip architecture for suppressing errors using a type of qubit known as a cat ... New Low-Cost Challenger to Quantum Computer: Ising Machine Feb. 26, 2025 \\u2014 A low-energy challenger to the quantum computer also works at room temperature. Quantum sensors ... Topological Quantum Processor Marks Breakthrough in Computing Feb. 20, 2025 \\u2014 In a leap forward for quantum computing, physicists unveiled an eight-qubit topological quantum processor, the first of its kind. When Qubits Learn the Language of Fiberoptics Feb. 11, 2025 \\u2014 Qubits -- the fundamental units of quantum information -- drive entire tech sectors.\", \"score\": 0.87981987, \"raw_content\": null}, {\"title\": \"Quantum computing | MIT News | Massachusetts Institute of Technology\", \"url\": \"https://news.mit.edu/topic/quantum-computing\", \"content\": \"February 5, 2025 Read full story \\u2192 Fast control methods enable record-setting fidelity in superconducting qubit The advance holds the promise to reduce error-correction resource overhead. January 13, 2025 Read full story \\u2192 MIT physicists predict exotic form of matter with potential for quantum computing New work suggests the ability to create fractionalized electrons known as non-Abelian anyons without a magnetic field, opening new possibilities for basic research and future applications. October 30, 2024 Read full story \\u2192 Toward a code-breaking quantum computer Building on a landmark algorithm, researchers propose a way to make a smaller and more noise-tolerant quantum factoring circuit for cryptography. July 31, 2024 Read full story \\u2192 Modular, scalable hardware architecture for a quantum computer A new quantum-system-on-chip enables the efficient control of a large array of qubits, moving toward practical quantum computing. May 2, 2024 Read full story \\u2192 MIT scientists tune the entanglement structure in an array of qubits The advance offers a way to characterize a fundamental resource needed for quantum computing.\", \"score\": 0.853046, \"raw_content\": null}, {\"title\": \"China's New Quantum Machine Runs One Million Times ... - SciTechDaily\", \"url\": \"https://scitechdaily.com/chinas-new-quantum-machine-runs-one-million-times-faster-than-googles/\", \"content\": \"China\\u2019s New Quantum Machine Runs One Million Times Faster Than Google\\u2019s China\\u2019s New Quantum Machine Runs One Million Times Faster Than Google\\u2019s A research team from the University of Science and Technology of China (USTC), part of the Chinese Academy of Sciences, along with its partners, has made significant progress in random quantum circuit sampling using Zuchongzhi-3 \\u2014 a superconducting quantum computing prototype equipped with 105 qubits and 182 couplers. Zuchongzhi-3 operates at an astonishing speed, performing computations 1015 times faster than the most powerful supercomputer available today and one million times faster than Google\\u2019s latest published quantum computing results. Chinese Academy of Sciences Quantum Computing Qubits Supercomputing Superconductor Quantum Computers Keep Losing Qubits but Scientists Just Found a Fix\", \"score\": 0.6097339, \"raw_content\": null}, {\"title\": \"IBM Launches Its Most Advanced Quantum Computers, Fueling New ...\", \"url\": \"https://newsroom.ibm.com/2024-11-13-ibm-launches-its-most-advanced-quantum-computers,-fueling-new-scientific-value-and-progress-towards-quantum-advantage\", \"content\": \"The IBM Quantum Platform is further expanding options with new Qiskit services such as generative AI-based capabilities and software from IBM partners, allowing a growing network of experts across industries to build next-generation algorithms for scientific research. This includes tools such as the Qiskit Transpiler Service to power the efficient optimization of quantum circuits for quantum hardware with AI; Qiskit Code Assistant to help developers generate quantum code with IBM Granite-based generative AI models; Qiskit Serverless to run initial quantum-centric supercomputing approaches across quantum and classical systems; and the IBM Qiskit Functions Catalog to make services available from IBM, Algorithmiq, Qedma, QunaSys, Q-CTRL, and Multiverse Computing for capabilities such as reducing the performance management of quantum noise, as well as abstracting away the complexities of quantum circuits to simplify the development of quantum algorithms.\", \"score\": 0.5818027, \"raw_content\": null}]}\u001b[0m\n",
      "\u001b[33minference> \u001b[0m\u001b[33mHere\u001b[0m\u001b[33m are\u001b[0m\u001b[33m some\u001b[0m\u001b[33m recent\u001b[0m\u001b[33m news\u001b[0m\u001b[33m articles\u001b[0m\u001b[33m about\u001b[0m\u001b[33m advance\u001b[0m\u001b[33mments\u001b[0m\u001b[33m in\u001b[0m\u001b[33m quantum\u001b[0m\u001b[33m computing\u001b[0m\u001b[33m:\u001b[0m\u001b[33m\n",
      "\u001b[0m\u001b[33m\n",
      "\u001b[0m\u001b[33m1\u001b[0m\u001b[33m.\u001b[0m\u001b[33m **\u001b[0m\u001b[33mQuantum\u001b[0m\u001b[33m Computing\u001b[0m\u001b[33m News\u001b[0m\u001b[33m --\u001b[0m\u001b[33m Science\u001b[0m\u001b[33mDaily\u001b[0m\u001b[33m**\u001b[0m\u001b[33m\n",
      "  \u001b[0m\u001b[33m -\u001b[0m\u001b[33m Title\u001b[0m\u001b[33m:\u001b[0m\u001b[33m \"\u001b[0m\u001b[33mQuantum\u001b[0m\u001b[33m Inter\u001b[0m\u001b[33mference\u001b[0m\u001b[33m in\u001b[0m\u001b[33m M\u001b[0m\u001b[33molecule\u001b[0m\u001b[33m-\u001b[0m\u001b[33mSurface\u001b[0m\u001b[33m Coll\u001b[0m\u001b[33misions\u001b[0m\u001b[33m\"\u001b[0m\u001b[33m\n",
      "  \u001b[0m\u001b[33m -\u001b[0m\u001b[33m Date\u001b[0m\u001b[33m:\u001b[0m\u001b[33m Feb\u001b[0m\u001b[33m.\u001b[0m\u001b[33m \u001b[0m\u001b[33m2\u001b[0m\u001b[33m7\u001b[0m\u001b[33m,\u001b[0m\u001b[33m \u001b[0m\u001b[33m2\u001b[0m\u001b[33m0\u001b[0m\u001b[33m2\u001b[0m\u001b[33m5\u001b[0m\u001b[33m\n",
      "  \u001b[0m\u001b[33m -\u001b[0m\u001b[33m Content\u001b[0m\u001b[33m:\u001b[0m\u001b[33m Sc\u001b[0m\u001b[33mient\u001b[0m\u001b[33mists\u001b[0m\u001b[33m have\u001b[0m\u001b[33m reve\u001b[0m\u001b[33maled\u001b[0m\u001b[33m how\u001b[0m\u001b[33m quantum\u001b[0m\u001b[33m inter\u001b[0m\u001b[33mference\u001b[0m\u001b[33m and\u001b[0m\u001b[33m sym\u001b[0m\u001b[33mmetry\u001b[0m\u001b[33m dict\u001b[0m\u001b[33mate\u001b[0m\u001b[33m molec\u001b[0m\u001b[33mular\u001b[0m\u001b[33m behavior\u001b[0m\u001b[33m in\u001b[0m\u001b[33m collisions\u001b[0m\u001b[33m with\u001b[0m\u001b[33m gold\u001b[0m\u001b[33m surfaces\u001b[0m\u001b[33m,\u001b[0m\u001b[33m offering\u001b[0m\u001b[33m new\u001b[0m\u001b[33m insights\u001b[0m\u001b[33m into\u001b[0m\u001b[33m molec\u001b[0m\u001b[33mular\u001b[0m\u001b[33m interactions\u001b[0m\u001b[33m.\u001b[0m\u001b[33m\n",
      "  \u001b[0m\u001b[33m -\u001b[0m\u001b[33m Link\u001b[0m\u001b[33m:\u001b[0m\u001b[33m [\u001b[0m\u001b[33mQuantum\u001b[0m\u001b[33m Computing\u001b[0m\u001b[33m News\u001b[0m\u001b[33m](\u001b[0m\u001b[33mhttps\u001b[0m\u001b[33m://\u001b[0m\u001b[33mwww\u001b[0m\u001b[33m.\u001b[0m\u001b[33msci\u001b[0m\u001b[33menced\u001b[0m\u001b[33maily\u001b[0m\u001b[33m.\u001b[0m\u001b[33mcom\u001b[0m\u001b[33m/\u001b[0m\u001b[33mnews\u001b[0m\u001b[33m/\u001b[0m\u001b[33mmatter\u001b[0m\u001b[33m_\u001b[0m\u001b[33menergy\u001b[0m\u001b[33m/\u001b[0m\u001b[33mquantum\u001b[0m\u001b[33m_\u001b[0m\u001b[33mcomputing\u001b[0m\u001b[33m/)\u001b[0m\u001b[33m\n",
      "\u001b[0m\u001b[33m\n",
      "\u001b[0m\u001b[33m2\u001b[0m\u001b[33m.\u001b[0m\u001b[33m **\u001b[0m\u001b[33mQuantum\u001b[0m\u001b[33m Comput\u001b[0m\u001b[33mers\u001b[0m\u001b[33m News\u001b[0m\u001b[33m --\u001b[0m\u001b[33m Science\u001b[0m\u001b[33mDaily\u001b[0m\u001b[33m**\u001b[0m\u001b[33m\n",
      "  \u001b[0m\u001b[33m -\u001b[0m\u001b[33m Title\u001b[0m\u001b[33m:\u001b[0m\u001b[33m \"\u001b[0m\u001b[33mMaterials\u001b[0m\u001b[33m In\u001b[0m\u001b[33mcorpor\u001b[0m\u001b[33mated\u001b[0m\u001b[33m Into\u001b[0m\u001b[33m Quant\u001b[0m\u001b[33mum\u001b[0m\u001b[33m Q\u001b[0m\u001b[33mubit\u001b[0m\u001b[33m Platform\u001b[0m\u001b[33m\"\u001b[0m\u001b[33m\n",
      "  \u001b[0m\u001b[33m -\u001b[0m\u001b[33m Date\u001b[0m\u001b[33m:\u001b[0m\u001b[33m Feb\u001b[0m\u001b[33m.\u001b[0m\u001b[33m \u001b[0m\u001b[33m2\u001b[0m\u001b[33m5\u001b[0m\u001b[33m,\u001b[0m\u001b[33m \u001b[0m\u001b[33m2\u001b[0m\u001b[33m0\u001b[0m\u001b[33m2\u001b[0m\u001b[33m5\u001b[0m\u001b[33m\n",
      "  \u001b[0m\u001b[33m -\u001b[0m\u001b[33m Content\u001b[0m\u001b[33m:\u001b[0m\u001b[33m Research\u001b[0m\u001b[33mers\u001b[0m\u001b[33m detail\u001b[0m\u001b[33m adv\u001b[0m\u001b[33mances\u001b[0m\u001b[33m in\u001b[0m\u001b[33m the\u001b[0m\u001b[33m measurement\u001b[0m\u001b[33m of\u001b[0m\u001b[33m quantum\u001b[0m\u001b[33m devices\u001b[0m\u001b[33m that\u001b[0m\u001b[33m will\u001b[0m\u001b[33m be\u001b[0m\u001b[33m needed\u001b[0m\u001b[33m to\u001b[0m\u001b[33m realize\u001b[0m\u001b[33m a\u001b[0m\u001b[33m topo\u001b[0m\u001b[33mlogical\u001b[0m\u001b[33m quantum\u001b[0m\u001b[33m computer\u001b[0m\u001b[33m.\u001b[0m\u001b[33m\n",
      "  \u001b[0m\u001b[33m -\u001b[0m\u001b[33m Link\u001b[0m\u001b[33m:\u001b[0m\u001b[33m [\u001b[0m\u001b[33mQuantum\u001b[0m\u001b[33m Comput\u001b[0m\u001b[33mers\u001b[0m\u001b[33m News\u001b[0m\u001b[33m](\u001b[0m\u001b[33mhttps\u001b[0m\u001b[33m://\u001b[0m\u001b[33mwww\u001b[0m\u001b[33m.\u001b[0m\u001b[33msci\u001b[0m\u001b[33menced\u001b[0m\u001b[33maily\u001b[0m\u001b[33m.\u001b[0m\u001b[33mcom\u001b[0m\u001b[33m/\u001b[0m\u001b[33mnews\u001b[0m\u001b[33m/\u001b[0m\u001b[33mcomp\u001b[0m\u001b[33mut\u001b[0m\u001b[33mers\u001b[0m\u001b[33m_\u001b[0m\u001b[33mmath\u001b[0m\u001b[33m/\u001b[0m\u001b[33mquantum\u001b[0m\u001b[33m_\u001b[0m\u001b[33mcomp\u001b[0m\u001b[33mut\u001b[0m\u001b[33mers\u001b[0m\u001b[33m/)\u001b[0m\u001b[33m\n",
      "\u001b[0m\u001b[33m\n",
      "\u001b[0m\u001b[33m3\u001b[0m\u001b[33m.\u001b[0m\u001b[33m **\u001b[0m\u001b[33mMIT\u001b[0m\u001b[33m News\u001b[0m\u001b[33m |\u001b[0m\u001b[33m Mass\u001b[0m\u001b[33mach\u001b[0m\u001b[33muset\u001b[0m\u001b[33mts\u001b[0m\u001b[33m Institute\u001b[0m\u001b[33m of\u001b[0m\u001b[33m Technology\u001b[0m\u001b[33m**\u001b[0m\u001b[33m\n",
      "  \u001b[0m\u001b[33m -\u001b[0m\u001b[33m Title\u001b[0m\u001b[33m:\u001b[0m\u001b[33m \"\u001b[0m\u001b[33mFast\u001b[0m\u001b[33m control\u001b[0m\u001b[33m methods\u001b[0m\u001b[33m enable\u001b[0m\u001b[33m record\u001b[0m\u001b[33m-\u001b[0m\u001b[33msetting\u001b[0m\u001b[33m f\u001b[0m\u001b[33midel\u001b[0m\u001b[33mity\u001b[0m\u001b[33m in\u001b[0m\u001b[33m super\u001b[0m\u001b[33mconduct\u001b[0m\u001b[33ming\u001b[0m\u001b[33m q\u001b[0m\u001b[33mubit\u001b[0m\u001b[33m\"\u001b[0m\u001b[33m\n",
      "  \u001b[0m\u001b[33m -\u001b[0m\u001b[33m Date\u001b[0m\u001b[33m:\u001b[0m\u001b[33m Feb\u001b[0m\u001b[33m.\u001b[0m\u001b[33m \u001b[0m\u001b[33m5\u001b[0m\u001b[33m,\u001b[0m\u001b[33m \u001b[0m\u001b[33m2\u001b[0m\u001b[33m0\u001b[0m\u001b[33m2\u001b[0m\u001b[33m5\u001b[0m\u001b[33m\n",
      "  \u001b[0m\u001b[33m -\u001b[0m\u001b[33m Content\u001b[0m\u001b[33m:\u001b[0m\u001b[33m The\u001b[0m\u001b[33m advance\u001b[0m\u001b[33m holds\u001b[0m\u001b[33m the\u001b[0m\u001b[33m promise\u001b[0m\u001b[33m to\u001b[0m\u001b[33m reduce\u001b[0m\u001b[33m error\u001b[0m\u001b[33m-\u001b[0m\u001b[33mcorrection\u001b[0m\u001b[33m resource\u001b[0m\u001b[33m overhead\u001b[0m\u001b[33m.\u001b[0m\u001b[33m\n",
      "  \u001b[0m\u001b[33m -\u001b[0m\u001b[33m Link\u001b[0m\u001b[33m:\u001b[0m\u001b[33m [\u001b[0m\u001b[33mMIT\u001b[0m\u001b[33m Quant\u001b[0m\u001b[33mum\u001b[0m\u001b[33m Computing\u001b[0m\u001b[33m](\u001b[0m\u001b[33mhttps\u001b[0m\u001b[33m://\u001b[0m\u001b[33mnews\u001b[0m\u001b[33m.\u001b[0m\u001b[33mmit\u001b[0m\u001b[33m.\u001b[0m\u001b[33medu\u001b[0m\u001b[33m/\u001b[0m\u001b[33mtopic\u001b[0m\u001b[33m/\u001b[0m\u001b[33mquantum\u001b[0m\u001b[33m-\u001b[0m\u001b[33mcomputing\u001b[0m\u001b[33m)\u001b[0m\u001b[33m\n",
      "\u001b[0m\u001b[33m\n",
      "\u001b[0m\u001b[33m4\u001b[0m\u001b[33m.\u001b[0m\u001b[33m **\u001b[0m\u001b[33mChina\u001b[0m\u001b[33m's\u001b[0m\u001b[33m New\u001b[0m\u001b[33m Quant\u001b[0m\u001b[33mum\u001b[0m\u001b[33m Machine\u001b[0m\u001b[33m Runs\u001b[0m\u001b[33m One\u001b[0m\u001b[33m M\u001b[0m\u001b[33million\u001b[0m\u001b[33m Times\u001b[0m\u001b[33m F\u001b[0m\u001b[33master\u001b[0m\u001b[33m Th\u001b[0m\u001b[33man\u001b[0m\u001b[33m Google\u001b[0m\u001b[33m's\u001b[0m\u001b[33m -\u001b[0m\u001b[33m Sci\u001b[0m\u001b[33mTech\u001b[0m\u001b[33mDaily\u001b[0m\u001b[33m**\u001b[0m\u001b[33m\n",
      "  \u001b[0m\u001b[33m -\u001b[0m\u001b[33m Title\u001b[0m\u001b[33m:\u001b[0m\u001b[33m China\u001b[0m\u001b[33m's\u001b[0m\u001b[33m New\u001b[0m\u001b[33m Quant\u001b[0m\u001b[33mum\u001b[0m\u001b[33m Machine\u001b[0m\u001b[33m Runs\u001b[0m\u001b[33m One\u001b[0m\u001b[33m M\u001b[0m\u001b[33million\u001b[0m\u001b[33m Times\u001b[0m\u001b[33m F\u001b[0m\u001b[33master\u001b[0m\u001b[33m Th\u001b[0m\u001b[33man\u001b[0m\u001b[33m Google\u001b[0m\u001b[33m's\u001b[0m\u001b[33m\n",
      "  \u001b[0m\u001b[33m -\u001b[0m\u001b[33m Date\u001b[0m\u001b[33m:\u001b[0m\u001b[33m Not\u001b[0m\u001b[33m specified\u001b[0m\u001b[33m\n",
      "  \u001b[0m\u001b[33m -\u001b[0m\u001b[33m Content\u001b[0m\u001b[33m:\u001b[0m\u001b[33m A\u001b[0m\u001b[33m research\u001b[0m\u001b[33m team\u001b[0m\u001b[33m from\u001b[0m\u001b[33m the\u001b[0m\u001b[33m University\u001b[0m\u001b[33m of\u001b[0m\u001b[33m Science\u001b[0m\u001b[33m and\u001b[0m\u001b[33m Technology\u001b[0m\u001b[33m of\u001b[0m\u001b[33m China\u001b[0m\u001b[33m (\u001b[0m\u001b[33mUST\u001b[0m\u001b[33mC\u001b[0m\u001b[33m)\u001b[0m\u001b[33m has\u001b[0m\u001b[33m made\u001b[0m\u001b[33m significant\u001b[0m\u001b[33m progress\u001b[0m\u001b[33m in\u001b[0m\u001b[33m random\u001b[0m\u001b[33m quantum\u001b[0m\u001b[33m circuit\u001b[0m\u001b[33m sampling\u001b[0m\u001b[33m using\u001b[0m\u001b[33m Z\u001b[0m\u001b[33much\u001b[0m\u001b[33mong\u001b[0m\u001b[33mzhi\u001b[0m\u001b[33m-\u001b[0m\u001b[33m3\u001b[0m\u001b[33m,\u001b[0m\u001b[33m a\u001b[0m\u001b[33m super\u001b[0m\u001b[33mconduct\u001b[0m\u001b[33ming\u001b[0m\u001b[33m quantum\u001b[0m\u001b[33m computing\u001b[0m\u001b[33m prototype\u001b[0m\u001b[33m equ\u001b[0m\u001b[33mipped\u001b[0m\u001b[33m with\u001b[0m\u001b[33m \u001b[0m\u001b[33m1\u001b[0m\u001b[33m0\u001b[0m\u001b[33m5\u001b[0m\u001b[33m q\u001b[0m\u001b[33mubits\u001b[0m\u001b[33m and\u001b[0m\u001b[33m \u001b[0m\u001b[33m1\u001b[0m\u001b[33m8\u001b[0m\u001b[33m2\u001b[0m\u001b[33m coup\u001b[0m\u001b[33mlers\u001b[0m\u001b[33m.\u001b[0m\u001b[33m\n",
      "  \u001b[0m\u001b[33m -\u001b[0m\u001b[33m Link\u001b[0m\u001b[33m:\u001b[0m\u001b[33m [\u001b[0m\u001b[33mS\u001b[0m\u001b[33mci\u001b[0m\u001b[33mTech\u001b[0m\u001b[33mDaily\u001b[0m\u001b[33m Article\u001b[0m\u001b[33m](\u001b[0m\u001b[33mhttps\u001b[0m\u001b[33m://\u001b[0m\u001b[33msc\u001b[0m\u001b[33mite\u001b[0m\u001b[33mch\u001b[0m\u001b[33mdaily\u001b[0m\u001b[33m.\u001b[0m\u001b[33mcom\u001b[0m\u001b[33m/\u001b[0m\u001b[33mch\u001b[0m\u001b[33minas\u001b[0m\u001b[33m-\u001b[0m\u001b[33mnew\u001b[0m\u001b[33m-\u001b[0m\u001b[33mquantum\u001b[0m\u001b[33m-\u001b[0m\u001b[33mmachine\u001b[0m\u001b[33m-\u001b[0m\u001b[33mruns\u001b[0m\u001b[33m-\u001b[0m\u001b[33mone\u001b[0m\u001b[33m-\u001b[0m\u001b[33mm\u001b[0m\u001b[33million\u001b[0m\u001b[33m-\u001b[0m\u001b[33mtimes\u001b[0m\u001b[33m-\u001b[0m\u001b[33mfaster\u001b[0m\u001b[33m-\u001b[0m\u001b[33mthan\u001b[0m\u001b[33m-\u001b[0m\u001b[33mgoogle\u001b[0m\u001b[33ms\u001b[0m\u001b[33m/)\u001b[0m\u001b[33m\n",
      "\u001b[0m\u001b[33m\n",
      "\u001b[0m\u001b[33m5\u001b[0m\u001b[33m.\u001b[0m\u001b[33m **\u001b[0m\u001b[33mIBM\u001b[0m\u001b[33m La\u001b[0m\u001b[33munches\u001b[0m\u001b[33m Its\u001b[0m\u001b[33m Most\u001b[0m\u001b[33m Advanced\u001b[0m\u001b[33m Quant\u001b[0m\u001b[33mum\u001b[0m\u001b[33m Comput\u001b[0m\u001b[33mers\u001b[0m\u001b[33m,\u001b[0m\u001b[33m F\u001b[0m\u001b[33mue\u001b[0m\u001b[33mling\u001b[0m\u001b[33m New\u001b[0m\u001b[33m ...\u001b[0m\u001b[33m**\u001b[0m\u001b[33m\n",
      "  \u001b[0m\u001b[33m -\u001b[0m\u001b[33m Title\u001b[0m\u001b[33m:\u001b[0m\u001b[33m IBM\u001b[0m\u001b[33m La\u001b[0m\u001b[33munches\u001b[0m\u001b[33m Its\u001b[0m\u001b[33m Most\u001b[0m\u001b[33m Advanced\u001b[0m\u001b[33m Quant\u001b[0m\u001b[33mum\u001b[0m\u001b[33m Comput\u001b[0m\u001b[33mers\u001b[0m\u001b[33m,\u001b[0m\u001b[33m F\u001b[0m\u001b[33mue\u001b[0m\u001b[33mling\u001b[0m\u001b[33m New\u001b[0m\u001b[33m Sc\u001b[0m\u001b[33mientific\u001b[0m\u001b[33m Value\u001b[0m\u001b[33m and\u001b[0m\u001b[33m Progress\u001b[0m\u001b[33m T\u001b[0m\u001b[33mow\u001b[0m\u001b[33mards\u001b[0m\u001b[33m Quant\u001b[0m\u001b[33mum\u001b[0m\u001b[33m Adv\u001b[0m\u001b[33mantage\u001b[0m\u001b[33m\n",
      "  \u001b[0m\u001b[33m -\u001b[0m\u001b[33m Date\u001b[0m\u001b[33m:\u001b[0m\u001b[33m Nov\u001b[0m\u001b[33m.\u001b[0m\u001b[33m \u001b[0m\u001b[33m1\u001b[0m\u001b[33m3\u001b[0m\u001b[33m,\u001b[0m\u001b[33m \u001b[0m\u001b[33m2\u001b[0m\u001b[33m0\u001b[0m\u001b[33m2\u001b[0m\u001b[33m4\u001b[0m\u001b[33m\n",
      "  \u001b[0m\u001b[33m -\u001b[0m\u001b[33m Content\u001b[0m\u001b[33m:\u001b[0m\u001b[33m IBM\u001b[0m\u001b[33m has\u001b[0m\u001b[33m launched\u001b[0m\u001b[33m its\u001b[0m\u001b[33m most\u001b[0m\u001b[33m advanced\u001b[0m\u001b[33m quantum\u001b[0m\u001b[33m computers\u001b[0m\u001b[33m,\u001b[0m\u001b[33m intro\u001b[0m\u001b[33mducing\u001b[0m\u001b[33m new\u001b[0m\u001b[33m Q\u001b[0m\u001b[33mis\u001b[0m\u001b[33mkit\u001b[0m\u001b[33m services\u001b[0m\u001b[33m to\u001b[0m\u001b[33m help\u001b[0m\u001b[33m a\u001b[0m\u001b[33m growing\u001b[0m\u001b[33m network\u001b[0m\u001b[33m of\u001b[0m\u001b[33m ex\u001b[0m\u001b[33mperts\u001b[0m\u001b[33m across\u001b[0m\u001b[33m ind\u001b[0m\u001b[33must\u001b[0m\u001b[33mries\u001b[0m\u001b[33m build\u001b[0m\u001b[33m next\u001b[0m\u001b[33m-\u001b[0m\u001b[33mgeneration\u001b[0m\u001b[33m algorithms\u001b[0m\u001b[33m for\u001b[0m\u001b[33m scientific\u001b[0m\u001b[33m research\u001b[0m\u001b[33m.\u001b[0m\u001b[33m\n",
      "  \u001b[0m\u001b[33m -\u001b[0m\u001b[33m Link\u001b[0m\u001b[33m:\u001b[0m\u001b[33m [\u001b[0m\u001b[33mIBM\u001b[0m\u001b[33m News\u001b[0m\u001b[33mroom\u001b[0m\u001b[33m](\u001b[0m\u001b[33mhttps\u001b[0m\u001b[33m://\u001b[0m\u001b[33mnews\u001b[0m\u001b[33mroom\u001b[0m\u001b[33m.\u001b[0m\u001b[33mibm\u001b[0m\u001b[33m.\u001b[0m\u001b[33mcom\u001b[0m\u001b[33m/\u001b[0m\u001b[33m2\u001b[0m\u001b[33m0\u001b[0m\u001b[33m2\u001b[0m\u001b[33m4\u001b[0m\u001b[33m-\u001b[0m\u001b[33m1\u001b[0m\u001b[33m1\u001b[0m\u001b[33m-\u001b[0m\u001b[33m1\u001b[0m\u001b[33m3\u001b[0m\u001b[33m-\u001b[0m\u001b[33mibm\u001b[0m\u001b[33m-\u001b[0m\u001b[33mla\u001b[0m\u001b[33munches\u001b[0m\u001b[33m-\u001b[0m\u001b[33mits\u001b[0m\u001b[33m-\u001b[0m\u001b[33mmost\u001b[0m\u001b[33m-\u001b[0m\u001b[33madvanced\u001b[0m\u001b[33m-\u001b[0m\u001b[33mquantum\u001b[0m\u001b[33m-\u001b[0m\u001b[33mcomp\u001b[0m\u001b[33mut\u001b[0m\u001b[33mers\u001b[0m\u001b[33m,-\u001b[0m\u001b[33mf\u001b[0m\u001b[33mue\u001b[0m\u001b[33mling\u001b[0m\u001b[33m-\u001b[0m\u001b[33mnew\u001b[0m\u001b[33m-\u001b[0m\u001b[33mscientific\u001b[0m\u001b[33m-\u001b[0m\u001b[33mvalue\u001b[0m\u001b[33m-\u001b[0m\u001b[33mand\u001b[0m\u001b[33m-\u001b[0m\u001b[33mprogress\u001b[0m\u001b[33m-\u001b[0m\u001b[33mtow\u001b[0m\u001b[33mards\u001b[0m\u001b[33m-\u001b[0m\u001b[33mquantum\u001b[0m\u001b[33m-\u001b[0m\u001b[33madv\u001b[0m\u001b[33mantage\u001b[0m\u001b[33m)\u001b[0m\u001b[33m\n",
      "\u001b[0m\u001b[33m\n",
      "\u001b[0m\u001b[33mThese\u001b[0m\u001b[33m articles\u001b[0m\u001b[33m highlight\u001b[0m\u001b[33m recent\u001b[0m\u001b[33m break\u001b[0m\u001b[33mthrough\u001b[0m\u001b[33ms\u001b[0m\u001b[33m in\u001b[0m\u001b[33m quantum\u001b[0m\u001b[33m computing\u001b[0m\u001b[33m,\u001b[0m\u001b[33m including\u001b[0m\u001b[33m advance\u001b[0m\u001b[33mments\u001b[0m\u001b[33m in\u001b[0m\u001b[33m q\u001b[0m\u001b[33mubit\u001b[0m\u001b[33m platforms\u001b[0m\u001b[33m,\u001b[0m\u001b[33m quantum\u001b[0m\u001b[33m inter\u001b[0m\u001b[33mference\u001b[0m\u001b[33m studies\u001b[0m\u001b[33m,\u001b[0m\u001b[33m and\u001b[0m\u001b[33m the\u001b[0m\u001b[33m development\u001b[0m\u001b[33m of\u001b[0m\u001b[33m more\u001b[0m\u001b[33m powerful\u001b[0m\u001b[33m quantum\u001b[0m\u001b[33m computers\u001b[0m\u001b[33m.\u001b[0m\u001b[97m\u001b[0m\n",
      "\u001b[30m\u001b[0m\u001b[34mUser> Find coffee shops near Dublin city center that are open now, have Wi-Fi.\u001b[0m\n",
      "\u001b[33minference> \u001b[0m\u001b[33m<\u001b[0m\u001b[33mtool\u001b[0m\u001b[33m_\u001b[0m\u001b[33mcall\u001b[0m\u001b[33m>\u001b[0m\u001b[97m\u001b[0m\n",
      "\u001b[32mtool_execution> Tool:brave_search Args:{'query': 'coffee shops near Dublin city center open now with Wi-Fi'}\u001b[0m\n",
      "\u001b[32mtool_execution> Tool:brave_search Response:{\"query\": \"coffee shops near Dublin city center open now with Wi-Fi\", \"top_k\": [{\"title\": \"Top 10 Best Coffee & Cafes Near Dublin, Dublin - Yelp\", \"url\": \"https://www.yelp.com/search?find_desc=Coffee+&+Cafes&find_loc=Dublin\", \"content\": \"Open Now --:--Offers Delivery ... Top 10 Best Coffee & Cafes Near Dublin, Dublin. Sort: Recommended. All. Price. Open Now Offers Delivery Offers Takeout Free Wi-Fi Outdoor Seating. 1. Keoghs Caf\\u00e9. 4.0 (115 reviews) South Inner City \\u20ac\\u20ac Closed until 6:30 AM \\\"Such a handy little coffee shop to get to in the city centre!\", \"score\": 0.8987045, \"raw_content\": null}, {\"title\": \"Best Free Wi-Fi Cafes in Dublin - UPDATED: March, 2025\", \"url\": \"https://laptopfriendlycafe.com/free-wifi-cafes-in-dublin\", \"content\": \"Check out the best cafes in Dublin where you can work or relax with free Wi-Fi! Find the perfect places to get stuff done or just chill out and enjoy yourself. ... culture, rich history, and friendly locals. For those craving a cozy spot to work or study while enjoying a cup of coffee, Dublin boasts a plethora of cafes with free wifi that cater\", \"score\": 0.6538572, \"raw_content\": null}, {\"title\": \"10 Best Places To Grab A Coffee And Work In Dublin With Free Wifi\", \"url\": \"https://lovindublin.com/dublin/best-places-work-remotely-dublin-free-wifi\", \"content\": \"In compiling this list, I've made sure each places met the vitally important criteria: a good strong free wifi connectio, plugs to charge laptops or phone, and of course, good coffee. All of the venues selected below tick all the boxes and are spread out around the city, to give you an option for all situations.\", \"score\": 0.59372765, \"raw_content\": null}, {\"title\": \"11 Brilliant Caf\\u00e9s And Coffee Shops in Dublin: A Local's Guide\", \"url\": \"https://www.timeout.com/dublin/restaurants/best-cafes-in-dublin\", \"content\": \"This local landmark in the cosy neighbourhood of Ranelagh is one of Dublin's most beloved coffee shops. Nick's Coffee uses its own blend and it's always exceptionally well made. What's\", \"score\": 0.4709562, \"raw_content\": null}, {\"title\": \"The Best Caf\\u00e9 in Dublin City Centre: Where Caffeine Meets Culture\", \"url\": \"https://secretireland.ie/the-best-cafe-in-dublin-city-centre-where-caffeine-meets-culture/\", \"content\": \"2. Vice Coffee Inc.: Where Hipsters and Hardcore Coffee Lovers Converge. \\ud83d\\udccd 54 Middle Abbey Street, Dublin 1 \\ud83d\\udd17 Best Caf\\u00e9 Guide. Tucked inside the Fumbally-esque walls of Wigwam, Vice Coffee Inc. doesn't do average. This is where you come when coffee is no longer a casual affair but an obsessive pursuit of the perfect pour.\", \"score\": 0.4256297, \"raw_content\": null}]}\u001b[0m\n",
      "\u001b[33minference> \u001b[0m\u001b[33mHere\u001b[0m\u001b[33m are\u001b[0m\u001b[33m some\u001b[0m\u001b[33m coffee\u001b[0m\u001b[33m sh\u001b[0m\u001b[33mops\u001b[0m\u001b[33m near\u001b[0m\u001b[33m D\u001b[0m\u001b[33mub\u001b[0m\u001b[33mlin\u001b[0m\u001b[33m city\u001b[0m\u001b[33m center\u001b[0m\u001b[33m that\u001b[0m\u001b[33m are\u001b[0m\u001b[33m open\u001b[0m\u001b[33m now\u001b[0m\u001b[33m and\u001b[0m\u001b[33m offer\u001b[0m\u001b[33m Wi\u001b[0m\u001b[33m-\u001b[0m\u001b[33mFi\u001b[0m\u001b[33m:\u001b[0m\u001b[33m\n",
      "\u001b[0m\u001b[33m\n",
      "\u001b[0m\u001b[33m1\u001b[0m\u001b[33m.\u001b[0m\u001b[33m **\u001b[0m\u001b[33mTop\u001b[0m\u001b[33m \u001b[0m\u001b[33m1\u001b[0m\u001b[33m0\u001b[0m\u001b[33m Best\u001b[0m\u001b[33m C\u001b[0m\u001b[33moffee\u001b[0m\u001b[33m &\u001b[0m\u001b[33m C\u001b[0m\u001b[33maf\u001b[0m\u001b[33mes\u001b[0m\u001b[33m N\u001b[0m\u001b[33mear\u001b[0m\u001b[33m D\u001b[0m\u001b[33mub\u001b[0m\u001b[33mlin\u001b[0m\u001b[33m,\u001b[0m\u001b[33m D\u001b[0m\u001b[33mub\u001b[0m\u001b[33mlin\u001b[0m\u001b[33m -\u001b[0m\u001b[33m Y\u001b[0m\u001b[33mel\u001b[0m\u001b[33mp\u001b[0m\u001b[33m**\u001b[0m\u001b[33m\n",
      "  \u001b[0m\u001b[33m -\u001b[0m\u001b[33m [\u001b[0m\u001b[33mLink\u001b[0m\u001b[33m](\u001b[0m\u001b[33mhttps\u001b[0m\u001b[33m://\u001b[0m\u001b[33mwww\u001b[0m\u001b[33m.\u001b[0m\u001b[33myel\u001b[0m\u001b[33mp\u001b[0m\u001b[33m.\u001b[0m\u001b[33mcom\u001b[0m\u001b[33m/\u001b[0m\u001b[33msearch\u001b[0m\u001b[33m?\u001b[0m\u001b[33mfind\u001b[0m\u001b[33m_\u001b[0m\u001b[33mdesc\u001b[0m\u001b[33m=\u001b[0m\u001b[33mC\u001b[0m\u001b[33moffee\u001b[0m\u001b[33m+\u001b[0m\u001b[33m&\u001b[0m\u001b[33m+\u001b[0m\u001b[33mC\u001b[0m\u001b[33maf\u001b[0m\u001b[33mes\u001b[0m\u001b[33m&\u001b[0m\u001b[33mfind\u001b[0m\u001b[33m_\u001b[0m\u001b[33mloc\u001b[0m\u001b[33m=\u001b[0m\u001b[33mD\u001b[0m\u001b[33mub\u001b[0m\u001b[33mlin\u001b[0m\u001b[33m)\u001b[0m\u001b[33m\n",
      "  \u001b[0m\u001b[33m -\u001b[0m\u001b[33m **\u001b[0m\u001b[33mKe\u001b[0m\u001b[33mog\u001b[0m\u001b[33mhs\u001b[0m\u001b[33m C\u001b[0m\u001b[33maf\u001b[0m\u001b[33mé\u001b[0m\u001b[33m**\u001b[0m\u001b[33m is\u001b[0m\u001b[33m a\u001b[0m\u001b[33m handy\u001b[0m\u001b[33m little\u001b[0m\u001b[33m coffee\u001b[0m\u001b[33m shop\u001b[0m\u001b[33m in\u001b[0m\u001b[33m the\u001b[0m\u001b[33m city\u001b[0m\u001b[33m centre\u001b[0m\u001b[33m that\u001b[0m\u001b[33m's\u001b[0m\u001b[33m open\u001b[0m\u001b[33m until\u001b[0m\u001b[33m \u001b[0m\u001b[33m6\u001b[0m\u001b[33m:\u001b[0m\u001b[33m3\u001b[0m\u001b[33m0\u001b[0m\u001b[33m AM\u001b[0m\u001b[33m.\u001b[0m\u001b[33m\n",
      "\u001b[0m\u001b[33m\n",
      "\u001b[0m\u001b[33m2\u001b[0m\u001b[33m.\u001b[0m\u001b[33m **\u001b[0m\u001b[33mBest\u001b[0m\u001b[33m Free\u001b[0m\u001b[33m Wi\u001b[0m\u001b[33m-\u001b[0m\u001b[33mFi\u001b[0m\u001b[33m C\u001b[0m\u001b[33maf\u001b[0m\u001b[33mes\u001b[0m\u001b[33m in\u001b[0m\u001b[33m D\u001b[0m\u001b[33mub\u001b[0m\u001b[33mlin\u001b[0m\u001b[33m -\u001b[0m\u001b[33m UP\u001b[0m\u001b[33mD\u001b[0m\u001b[33mATED\u001b[0m\u001b[33m:\u001b[0m\u001b[33m March\u001b[0m\u001b[33m,\u001b[0m\u001b[33m \u001b[0m\u001b[33m2\u001b[0m\u001b[33m0\u001b[0m\u001b[33m2\u001b[0m\u001b[33m5\u001b[0m\u001b[33m**\u001b[0m\u001b[33m\n",
      "  \u001b[0m\u001b[33m -\u001b[0m\u001b[33m [\u001b[0m\u001b[33mLink\u001b[0m\u001b[33m](\u001b[0m\u001b[33mhttps\u001b[0m\u001b[33m://\u001b[0m\u001b[33mlaptop\u001b[0m\u001b[33mfriendly\u001b[0m\u001b[33mca\u001b[0m\u001b[33mfe\u001b[0m\u001b[33m.\u001b[0m\u001b[33mcom\u001b[0m\u001b[33m/\u001b[0m\u001b[33mfree\u001b[0m\u001b[33m-\u001b[0m\u001b[33mwifi\u001b[0m\u001b[33m-\u001b[0m\u001b[33mcaf\u001b[0m\u001b[33mes\u001b[0m\u001b[33m-\u001b[0m\u001b[33min\u001b[0m\u001b[33m-\u001b[0m\u001b[33mdub\u001b[0m\u001b[33mlin\u001b[0m\u001b[33m)\u001b[0m\u001b[33m\n",
      "  \u001b[0m\u001b[33m -\u001b[0m\u001b[33m D\u001b[0m\u001b[33mub\u001b[0m\u001b[33mlin\u001b[0m\u001b[33m is\u001b[0m\u001b[33m known\u001b[0m\u001b[33m for\u001b[0m\u001b[33m its\u001b[0m\u001b[33m co\u001b[0m\u001b[33mzy\u001b[0m\u001b[33m c\u001b[0m\u001b[33maf\u001b[0m\u001b[33mes\u001b[0m\u001b[33m with\u001b[0m\u001b[33m free\u001b[0m\u001b[33m Wi\u001b[0m\u001b[33m-\u001b[0m\u001b[33mFi\u001b[0m\u001b[33m,\u001b[0m\u001b[33m perfect\u001b[0m\u001b[33m for\u001b[0m\u001b[33m working\u001b[0m\u001b[33m or\u001b[0m\u001b[33m relax\u001b[0m\u001b[33ming\u001b[0m\u001b[33m with\u001b[0m\u001b[33m a\u001b[0m\u001b[33m cup\u001b[0m\u001b[33m of\u001b[0m\u001b[33m coffee\u001b[0m\u001b[33m.\u001b[0m\u001b[33m\n",
      "\u001b[0m\u001b[33m\n",
      "\u001b[0m\u001b[33m3\u001b[0m\u001b[33m.\u001b[0m\u001b[33m **\u001b[0m\u001b[33m1\u001b[0m\u001b[33m0\u001b[0m\u001b[33m Best\u001b[0m\u001b[33m Pl\u001b[0m\u001b[33maces\u001b[0m\u001b[33m To\u001b[0m\u001b[33m Grab\u001b[0m\u001b[33m A\u001b[0m\u001b[33m C\u001b[0m\u001b[33moffee\u001b[0m\u001b[33m And\u001b[0m\u001b[33m Work\u001b[0m\u001b[33m In\u001b[0m\u001b[33m D\u001b[0m\u001b[33mub\u001b[0m\u001b[33mlin\u001b[0m\u001b[33m With\u001b[0m\u001b[33m Free\u001b[0m\u001b[33m W\u001b[0m\u001b[33mifi\u001b[0m\u001b[33m**\u001b[0m\u001b[33m\n",
      "  \u001b[0m\u001b[33m -\u001b[0m\u001b[33m [\u001b[0m\u001b[33mLink\u001b[0m\u001b[33m](\u001b[0m\u001b[33mhttps\u001b[0m\u001b[33m://\u001b[0m\u001b[33mlov\u001b[0m\u001b[33mind\u001b[0m\u001b[33mub\u001b[0m\u001b[33mlin\u001b[0m\u001b[33m.\u001b[0m\u001b[33mcom\u001b[0m\u001b[33m/\u001b[0m\u001b[33mdub\u001b[0m\u001b[33mlin\u001b[0m\u001b[33m/\u001b[0m\u001b[33mbest\u001b[0m\u001b[33m-\u001b[0m\u001b[33mplaces\u001b[0m\u001b[33m-\u001b[0m\u001b[33mwork\u001b[0m\u001b[33m-\u001b[0m\u001b[33mrem\u001b[0m\u001b[33motely\u001b[0m\u001b[33m-\u001b[0m\u001b[33mdub\u001b[0m\u001b[33mlin\u001b[0m\u001b[33m-\u001b[0m\u001b[33mfree\u001b[0m\u001b[33m-\u001b[0m\u001b[33mwifi\u001b[0m\u001b[33m)\u001b[0m\u001b[33m\n",
      "  \u001b[0m\u001b[33m -\u001b[0m\u001b[33m This\u001b[0m\u001b[33m list\u001b[0m\u001b[33m includes\u001b[0m\u001b[33m ven\u001b[0m\u001b[33mues\u001b[0m\u001b[33m with\u001b[0m\u001b[33m good\u001b[0m\u001b[33m strong\u001b[0m\u001b[33m free\u001b[0m\u001b[33m Wi\u001b[0m\u001b[33m-\u001b[0m\u001b[33mFi\u001b[0m\u001b[33m,\u001b[0m\u001b[33m plug\u001b[0m\u001b[33ms\u001b[0m\u001b[33m for\u001b[0m\u001b[33m ch\u001b[0m\u001b[33marging\u001b[0m\u001b[33m,\u001b[0m\u001b[33m and\u001b[0m\u001b[33m,\u001b[0m\u001b[33m of\u001b[0m\u001b[33m course\u001b[0m\u001b[33m,\u001b[0m\u001b[33m good\u001b[0m\u001b[33m coffee\u001b[0m\u001b[33m.\u001b[0m\u001b[33m\n",
      "\u001b[0m\u001b[33m\n",
      "\u001b[0m\u001b[33m4\u001b[0m\u001b[33m.\u001b[0m\u001b[33m **\u001b[0m\u001b[33m1\u001b[0m\u001b[33m1\u001b[0m\u001b[33m Br\u001b[0m\u001b[33milli\u001b[0m\u001b[33mant\u001b[0m\u001b[33m C\u001b[0m\u001b[33maf\u001b[0m\u001b[33més\u001b[0m\u001b[33m And\u001b[0m\u001b[33m C\u001b[0m\u001b[33moffee\u001b[0m\u001b[33m Sh\u001b[0m\u001b[33mops\u001b[0m\u001b[33m in\u001b[0m\u001b[33m D\u001b[0m\u001b[33mub\u001b[0m\u001b[33mlin\u001b[0m\u001b[33m:\u001b[0m\u001b[33m A\u001b[0m\u001b[33m Local\u001b[0m\u001b[33m's\u001b[0m\u001b[33m Guide\u001b[0m\u001b[33m**\u001b[0m\u001b[33m\n",
      "  \u001b[0m\u001b[33m -\u001b[0m\u001b[33m [\u001b[0m\u001b[33mLink\u001b[0m\u001b[33m](\u001b[0m\u001b[33mhttps\u001b[0m\u001b[33m://\u001b[0m\u001b[33mwww\u001b[0m\u001b[33m.\u001b[0m\u001b[33mtimeout\u001b[0m\u001b[33m.\u001b[0m\u001b[33mcom\u001b[0m\u001b[33m/\u001b[0m\u001b[33mdub\u001b[0m\u001b[33mlin\u001b[0m\u001b[33m/\u001b[0m\u001b[33mrest\u001b[0m\u001b[33maurants\u001b[0m\u001b[33m/\u001b[0m\u001b[33mbest\u001b[0m\u001b[33m-\u001b[0m\u001b[33mcaf\u001b[0m\u001b[33mes\u001b[0m\u001b[33m-\u001b[0m\u001b[33min\u001b[0m\u001b[33m-\u001b[0m\u001b[33mdub\u001b[0m\u001b[33mlin\u001b[0m\u001b[33m)\u001b[0m\u001b[33m\n",
      "  \u001b[0m\u001b[33m -\u001b[0m\u001b[33m Nick\u001b[0m\u001b[33m's\u001b[0m\u001b[33m C\u001b[0m\u001b[33moffee\u001b[0m\u001b[33m in\u001b[0m\u001b[33m R\u001b[0m\u001b[33manel\u001b[0m\u001b[33mag\u001b[0m\u001b[33mh\u001b[0m\u001b[33m is\u001b[0m\u001b[33m a\u001b[0m\u001b[33m local\u001b[0m\u001b[33m favorite\u001b[0m\u001b[33m,\u001b[0m\u001b[33m using\u001b[0m\u001b[33m its\u001b[0m\u001b[33m own\u001b[0m\u001b[33m blend\u001b[0m\u001b[33m and\u001b[0m\u001b[33m serving\u001b[0m\u001b[33m exception\u001b[0m\u001b[33mally\u001b[0m\u001b[33m well\u001b[0m\u001b[33m-\u001b[0m\u001b[33mmade\u001b[0m\u001b[33m coffee\u001b[0m\u001b[33m.\u001b[0m\u001b[33m\n",
      "\u001b[0m\u001b[33m\n",
      "\u001b[0m\u001b[33m5\u001b[0m\u001b[33m.\u001b[0m\u001b[33m **\u001b[0m\u001b[33mThe\u001b[0m\u001b[33m Best\u001b[0m\u001b[33m C\u001b[0m\u001b[33maf\u001b[0m\u001b[33mé\u001b[0m\u001b[33m in\u001b[0m\u001b[33m D\u001b[0m\u001b[33mub\u001b[0m\u001b[33mlin\u001b[0m\u001b[33m City\u001b[0m\u001b[33m Cent\u001b[0m\u001b[33mre\u001b[0m\u001b[33m:\u001b[0m\u001b[33m Where\u001b[0m\u001b[33m C\u001b[0m\u001b[33maffe\u001b[0m\u001b[33mine\u001b[0m\u001b[33m Me\u001b[0m\u001b[33mets\u001b[0m\u001b[33m Culture\u001b[0m\u001b[33m**\u001b[0m\u001b[33m\n",
      "  \u001b[0m\u001b[33m -\u001b[0m\u001b[33m [\u001b[0m\u001b[33mLink\u001b[0m\u001b[33m](\u001b[0m\u001b[33mhttps\u001b[0m\u001b[33m://\u001b[0m\u001b[33msecret\u001b[0m\u001b[33mire\u001b[0m\u001b[33mland\u001b[0m\u001b[33m.\u001b[0m\u001b[33mie\u001b[0m\u001b[33m/\u001b[0m\u001b[33mthe\u001b[0m\u001b[33m-\u001b[0m\u001b[33mbest\u001b[0m\u001b[33m-\u001b[0m\u001b[33mca\u001b[0m\u001b[33mfe\u001b[0m\u001b[33m-\u001b[0m\u001b[33min\u001b[0m\u001b[33m-\u001b[0m\u001b[33mdub\u001b[0m\u001b[33mlin\u001b[0m\u001b[33m-\u001b[0m\u001b[33mcity\u001b[0m\u001b[33m-\u001b[0m\u001b[33mcentre\u001b[0m\u001b[33m-\u001b[0m\u001b[33mwhere\u001b[0m\u001b[33m-\u001b[0m\u001b[33mcaffe\u001b[0m\u001b[33mine\u001b[0m\u001b[33m-\u001b[0m\u001b[33mme\u001b[0m\u001b[33mets\u001b[0m\u001b[33m-\u001b[0m\u001b[33mculture\u001b[0m\u001b[33m/)\u001b[0m\u001b[33m\n",
      "  \u001b[0m\u001b[33m -\u001b[0m\u001b[33m **\u001b[0m\u001b[33mV\u001b[0m\u001b[33mice\u001b[0m\u001b[33m C\u001b[0m\u001b[33moffee\u001b[0m\u001b[33m Inc\u001b[0m\u001b[33m.**\u001b[0m\u001b[33m in\u001b[0m\u001b[33m Middle\u001b[0m\u001b[33m Ab\u001b[0m\u001b[33mbey\u001b[0m\u001b[33m Street\u001b[0m\u001b[33m is\u001b[0m\u001b[33m a\u001b[0m\u001b[33m great\u001b[0m\u001b[33m spot\u001b[0m\u001b[33m for\u001b[0m\u001b[33m hard\u001b[0m\u001b[33mcore\u001b[0m\u001b[33m coffee\u001b[0m\u001b[33m lo\u001b[0m\u001b[33mvers\u001b[0m\u001b[33m.\u001b[0m\u001b[33m\n",
      "\u001b[0m\u001b[33m\n",
      "\u001b[0m\u001b[33mRemember\u001b[0m\u001b[33m to\u001b[0m\u001b[33m check\u001b[0m\u001b[33m their\u001b[0m\u001b[33m current\u001b[0m\u001b[33m opening\u001b[0m\u001b[33m hours\u001b[0m\u001b[33m as\u001b[0m\u001b[33m they\u001b[0m\u001b[33m may\u001b[0m\u001b[33m vary\u001b[0m\u001b[33m.\u001b[0m\u001b[33m En\u001b[0m\u001b[33mjoy\u001b[0m\u001b[33m your\u001b[0m\u001b[33m coffee\u001b[0m\u001b[33m break\u001b[0m\u001b[33m in\u001b[0m\u001b[33m D\u001b[0m\u001b[33mub\u001b[0m\u001b[33mlin\u001b[0m\u001b[33m!\u001b[0m\u001b[97m\u001b[0m\n",
      "\u001b[30m\u001b[0m"
     ]
    }
   ],
   "source": [
    "user_prompts = [\n",
    "    \"What’s latest in OpenShift?\",\n",
    "    \"Search for recent news articles about advancements in quantum computing.\",\n",
    "    \"Find coffee shops near Dublin city center that are open now, have Wi-Fi.\",\n",
    "]\n",
    "for prompt in user_prompts:\n",
    "    cprint(f\"User> {prompt}\", \"blue\")\n",
    "    session_id = agent.create_session(\"web-session\")\n",
    "    response = agent.create_turn(\n",
    "        messages=[\n",
    "            {\n",
    "                \"role\": \"user\",\n",
    "                \"content\": prompt,\n",
    "            }\n",
    "        ],\n",
    "        session_id=session_id,\n",
    "    )\n",
    "    for log in EventLogger().log(response):\n",
    "        log.print()"
   ]
  },
  {
   "cell_type": "markdown",
   "metadata": {},
   "source": [
    "Here, we can observe that the `builtin::websearch` tool is used to perform a web search. The outputs are displayed in the notebook with color-coded text to help interpret the process:\n",
    "\n",
    "- **Blue Text**: Represents the user's input or query.\n",
    "- **Yellow Text**: Displays the LLM's inference response. \n",
    "- **Green Text**: Indicates the tool execution process, such as the tool being called and the query being sent to the web search API.\n",
    "\n",
    "Great! We can see that the model returned some relevant and recent information about OpenShift. This was only possible due to its ability to call tools like the web search, demonstrating the agent's capacity to retrieve real-time data effectively."
   ]
  },
  {
   "cell_type": "markdown",
   "metadata": {},
   "source": [
    "## Key Takeaways\n",
    "- This tutorial demonstrates how to set up and use a single tool with AI Agent.\n",
    "- It highlights the flexibility of switching between remote and local environments.\n",
    "- By following these steps, users can quickly get started with AI Agents and explore its capabilities.\n",
    "\n",
    "For more advanced use cases, please check our other example jupyter notebooks."
   ]
  }
 ],
 "metadata": {
  "kernelspec": {
   "display_name": "stackclientv19",
   "language": "python",
   "name": "python3"
  },
  "language_info": {
   "codemirror_mode": {
    "name": "ipython",
    "version": 3
   },
   "file_extension": ".py",
   "mimetype": "text/x-python",
   "name": "python",
   "nbconvert_exporter": "python",
   "pygments_lexer": "ipython3",
   "version": "3.10.9"
  }
 },
 "nbformat": 4,
 "nbformat_minor": 2
}
